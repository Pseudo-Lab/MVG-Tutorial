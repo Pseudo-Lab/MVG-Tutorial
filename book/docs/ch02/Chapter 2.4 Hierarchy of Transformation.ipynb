{
 "cells": [
  {
   "attachments": {},
   "cell_type": "markdown",
   "metadata": {},
   "source": [
    "# Chapter 2.4 A hierarchy of transformations"
   ]
  },
  {
   "attachments": {},
   "cell_type": "markdown",
   "metadata": {},
   "source": [
    "Multiple-View Geometry Chapter 2.4에서는\n",
    "Isometries, Similarity, Affine, Projective 변환 4가지에 대해 다룹니다.  \n",
    "  * 2D -> 2D로 이동하는 변환이며, 2D 동차좌표계 상에서의 변환이기 때문에 변환은 3*3 행렬로 표현됩니다."
   ]
  },
  {
   "attachments": {},
   "cell_type": "markdown",
   "metadata": {},
   "source": [
    "2D vector x_in, x_out과, 변환 H를 정의합니다.\n",
    "* x_in, x_out은 3X1 벡터이며, H는 3X3 행렬입니다.  \n",
    "\n",
    "x_out이 x_in에 변환 H를 적용하는 것을, 대수적으로는 x_out = H(x_in)으로 표현되며, 행렬곱 (H * x_in)으로 계산됩니다."
   ]
  },
  {
   "cell_type": "code",
   "execution_count": null,
   "metadata": {},
   "outputs": [],
   "source": [
    "import numpy as np\n",
    "import math"
   ]
  },
  {
   "cell_type": "code",
   "execution_count": 7,
   "metadata": {},
   "outputs": [],
   "source": [
    "# Initialize Vector and Matrix\n",
    "x_in = np.array([1,0,0])\n",
    "x_out = np.array([0,0,0])\n",
    "H = np.array([[1,0,0],\n",
    "              [0,1,0],\n",
    "              [0,0,1]])"
   ]
  },
  {
   "attachments": {},
   "cell_type": "markdown",
   "metadata": {},
   "source": [
    "np.dot 함수를 통하여 행렬곱 계산을 할 수 있습니다."
   ]
  },
  {
   "cell_type": "code",
   "execution_count": 8,
   "metadata": {},
   "outputs": [
    {
     "name": "stdout",
     "output_type": "stream",
     "text": [
      "[1 0 0]\n"
     ]
    }
   ],
   "source": [
    "x_out = np.dot(H, x_in)\n",
    "print(x_out)"
   ]
  },
  {
   "attachments": {},
   "cell_type": "markdown",
   "metadata": {},
   "source": [
    "## Class I. Isometries  \n",
    "Isometries 변환은 평행이동 및 회전변환입니다.\n",
    "두 점 사이의 (직선)거리, 두 선 사이의 각도는 변하지 않고 유지됩니다.\n",
    "\n",
    "행렬식으로는 다음과 같이 표현됩니다.\n",
    "\n",
    "$\\begin{bmatrix} \\epsilon \\, cos \\theta & -sin\\theta & tx \\\\ \\epsilon \\, sin \\theta & cos\\theta & ty \\\\ 0 & 0 & 1 \\end{bmatrix}$  \n",
    "\n",
    "여기서 $\\epsilon$은 1 또는 -1값을 가지며, $\\epsilon$가 1일때는 변환 후 이미지는 원본 이미지 그대로이고, $\\epsilon$가 -1일때는 좌우 반전됩니다.  \n",
    "변환 코드는 다음과 같습니다."
   ]
  },
  {
   "attachments": {},
   "cell_type": "markdown",
   "metadata": {},
   "source": [
    "$\\begin{bmatrix} x \\\\ y \\\\ 1 \\end{bmatrix}$ = $\\begin{bmatrix} \\epsilon \\, cos \\theta & -sin\\theta & tx \\\\ \\epsilon \\, sin \\theta & cos\\theta & ty \\\\ 0 & 0 & 1 \\end{bmatrix}$  $\\begin{bmatrix} x \\\\ y \\\\ 1 \\end{bmatrix}$ \n",
    "\n",
    "오른쪽의 $(x, y)$ 좌표가 Isometries 변환을 통해 $(x^{\\prime}, y^{\\prime})$ 로 변환됩니다."
   ]
  },
  {
   "attachments": {},
   "cell_type": "markdown",
   "metadata": {},
   "source": [
    "평면 유클리드 변환에서,\n",
    "\n",
    "${\\theta}$가 존재하는 항은 회전 변환을, $t_x$, $t_y$는 이동 변환을 나타내는 항목이므로 간단히 나타내면 다음과 같습니다.\n",
    "\n",
    "$x^{\\prime} = H_Ex = \\begin{bmatrix} R & t \\\\ 0^T & 1 \\end{bmatrix}$\n",
    "( R : 2X2 회전 행렬, t : 2차원 이동 벡터, 0 : 2차원 영벡터 )"
   ]
  },
  {
   "cell_type": "code",
   "execution_count": 9,
   "metadata": {},
   "outputs": [
    {
     "name": "stdout",
     "output_type": "stream",
     "text": [
      "Isometries With Epsilon and Theta\n",
      "[0.5       0.8660254 0.       ]\n"
     ]
    }
   ],
   "source": [
    "# Class I. Isometries\n",
    "P_Epsilon = 1\n",
    "P_Theta = math.pi / 3\n",
    "P_tx = 0\n",
    "P_ty = 0\n",
    "\n",
    "H = np.array([[P_Epsilon * np.cos(P_Theta),-np.sin(P_Theta), P_tx],\n",
    "              [P_Epsilon * np.sin(P_Theta),np.cos(P_Theta) , P_ty],\n",
    "              [0,0,1]])\n",
    "\n",
    "x_out = np.dot(H, x_in)\n",
    "print('Isometries With Epsilon and Theta')\n",
    "print(x_out)"
   ]
  },
  {
   "attachments": {},
   "cell_type": "markdown",
   "metadata": {},
   "source": [
    "## Class II. Similarity  \n",
    "Similarity 변환은 닮음변환입니다. 직선 사이의 각도, 길이의 비율, 면적의 비율은 변하지 않습니다.\n",
    "\n",
    "행렬식으로는 다음과 같이 표현됩니다.\n",
    "\n",
    "$\\begin{bmatrix} F \\, cos \\theta & -F \\ sin\\theta & t_x\\\\ F \\, sin \\theta & F \\ cos\\theta & t_y \\\\ 0 & 0 & 1 \\end{bmatrix}$  \n",
    "\n",
    "여기서 F은 닮음비, $\\theta$는 회전변환, $t_x$와 $t_y$는 평행이동입니다.\n",
    "변환 코드는 다음과 같습니다."
   ]
  },
  {
   "attachments": {},
   "cell_type": "markdown",
   "metadata": {},
   "source": [
    "평면 유클리드 변환에서,\n",
    "\n",
    "${\\theta}$가 존재하는 항은 회전 변환을, $t_x$, $t_y$는 이동 변환을 나타내는 항목이므로 간단히 나타내면 다음과 같습니다.\n",
    "\n",
    "$x^{\\prime} = H_Sx = \\begin{bmatrix} sR & t \\\\ 0^T & 1 \\end{bmatrix}$\n",
    "( R : 2X2 회전 행렬, t : 2차원 이동 벡터, 0 : 2차원 영벡터 )"
   ]
  },
  {
   "cell_type": "code",
   "execution_count": 10,
   "metadata": {},
   "outputs": [
    {
     "name": "stdout",
     "output_type": "stream",
     "text": [
      "Similarity With Scale and Theta\n",
      "[1.         1.73205081 0.        ]\n"
     ]
    }
   ],
   "source": [
    "# Class II. Similarity\n",
    "P_Scale = 2\n",
    "P_Theta = math.pi / 3\n",
    "P_tx = 0\n",
    "P_ty = 0\n",
    "\n",
    "H = np.array([[P_Scale * np.cos(P_Theta),-np.sin(P_Theta), P_tx],\n",
    "              [P_Scale * np.sin(P_Theta),np.cos(P_Theta) , P_ty],\n",
    "              [0,0,1]])\n",
    "\n",
    "x_out = np.dot(H, x_in)\n",
    "print('Similarity With Scale and Theta')\n",
    "print(x_out)"
   ]
  },
  {
   "attachments": {},
   "cell_type": "markdown",
   "metadata": {},
   "source": [
    "## Class III. Affine  \n",
    "Affine 변환은 회전변환, 평행이동에 이어, x,y좌표로 당기고 미는(stretch) 변환입니다.\n",
    "평행선은 변환 후에도 변하지 않고 유지됩니다.\n",
    "\n",
    "선형대수학의 선형변환(Linear Transform)과 동일하다고 볼 수 있으며, 행렬식으로는 다음과 같이 표현됩니다.\n",
    "\n",
    "$\\begin{bmatrix} a_{11} & a_{12} & t_x \\\\ a_{21} & a_{22} & t_y \\\\ 0 & 0 & 1 \\end{bmatrix}$  \n",
    "\n",
    "변환 코드는 다음과 같습니다."
   ]
  },
  {
   "cell_type": "code",
   "execution_count": 11,
   "metadata": {},
   "outputs": [
    {
     "name": "stdout",
     "output_type": "stream",
     "text": [
      "Affine\n",
      "[1 3 0]\n"
     ]
    }
   ],
   "source": [
    "# Class III. Affine\n",
    "P_a11 = 1\n",
    "P_a12 = 2\n",
    "P_a21 = 3\n",
    "P_a22 = 4\n",
    "P_tx = 0\n",
    "P_ty = 0\n",
    "\n",
    "H = np.array([[P_a11, P_a12, P_tx],\n",
    "              [P_a21, P_a22, P_ty],\n",
    "              [0,0,1]])\n",
    "\n",
    "x_out = np.dot(H, x_in)\n",
    "print('Affine')\n",
    "print(x_out)"
   ]
  },
  {
   "attachments": {},
   "cell_type": "markdown",
   "metadata": {},
   "source": [
    "![affine transform](./figures/ch_2_4_figure/ch2_4_figure1.jpg)"
   ]
  },
  {
   "attachments": {},
   "cell_type": "markdown",
   "metadata": {},
   "source": [
    "## Class IV. Projective  \n",
    "사영변환(Projective Transformation)은 3D 공간상의 한 점을 여러 2D 이미지로 사영하였을 때, 그 2D 이미지들 사이의 변환입니다.\n",
    "그 2D 이미지들 사이의 관계를 Homography라고도 합니다.  \n",
    "이 변환에서는 직선의 직진성만 보존되며,행렬식으로는 다음과 같이 표현됩니다.\n",
    "\n",
    "$\\begin{bmatrix} p_{11} & a_{12} & p_{13} \\\\ p_{21} & p_{22} & p_{23} \\\\ p_{31} & p_{32} & p_{33} \\end{bmatrix}$  \n",
    "\n",
    "위 행렬은 9개의 독립적인 Scalar로 이루어져 있지만, 동차좌표계이기 때문에 자유도(degree of freedom)는 8입니다.\n",
    "변환 코드는 다음과 같습니다."
   ]
  },
  {
   "cell_type": "code",
   "execution_count": 12,
   "metadata": {},
   "outputs": [
    {
     "name": "stdout",
     "output_type": "stream",
     "text": [
      "Projective Transformation\n",
      "[1 4 7]\n"
     ]
    }
   ],
   "source": [
    "# Class IV. Projective\n",
    "P_h11 = 1\n",
    "P_h12 = 2\n",
    "P_h13 = 3\n",
    "P_h21 = 4\n",
    "P_h22 = 5\n",
    "P_h23 = 6\n",
    "P_h31 = 7\n",
    "P_h32 = 8\n",
    "P_h33 = 9\n",
    "H = np.array([[P_h11, P_h12, P_h13],\n",
    "              [P_h21, P_h22, P_h23],\n",
    "              [P_h31, P_h32, P_h33]])\n",
    "\n",
    "x_out = np.dot(H, x_in)\n",
    "print('Projective Transformation')\n",
    "print(x_out)"
   ]
  }
 ],
 "metadata": {
  "kernelspec": {
   "display_name": "Python 3",
   "language": "python",
   "name": "python3"
  },
  "language_info": {
   "codemirror_mode": {
    "name": "ipython",
    "version": 3
   },
   "file_extension": ".py",
   "mimetype": "text/x-python",
   "name": "python",
   "nbconvert_exporter": "python",
   "pygments_lexer": "ipython3",
   "version": "3.9.7"
  },
  "orig_nbformat": 4
 },
 "nbformat": 4,
 "nbformat_minor": 2
}

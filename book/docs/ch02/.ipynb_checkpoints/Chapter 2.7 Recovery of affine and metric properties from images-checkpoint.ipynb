{
 "cells": [
  {
   "cell_type": "markdown",
   "metadata": {},
   "source": [
    "# 2.7 Recovery of affine and metric properties from images"
   ]
  },
  {
   "cell_type": "markdown",
   "metadata": {},
   "source": [
    "## **사영 왜곡된 이미지에서 닮음 속성을 복원하기 위한 방법**\n",
    "\n",
    "평면의 투시 이미지에 있는 사영 왜곡을 제거하면 각도, 길이 비율과 같은 닮음 속성을 원래 평면에서 측정할 수 있다. 4개의 대응점을 지정하여 자유도 8인 사상 변환 H를 계산해 사영 왜곡을 완전히 제거할 수 있습니다.\n",
    "\n",
    "그러나 닮음 속성을 측정하기 위한 관점으로 보자면 이러한 방식은 기하를 과잉 지정한 것입니다. 사영 변환은 닮음 변환보다 4개의 자유도를 더 가지므로, 자유도 4만 지정하여도 닮음 속성을 측정할 수 있습니다.\n",
    "\n",
    "사영 왜곡된 이미지에서 닮음 속성을 복원하기 위한 4개의 자유도는 무한선 $l_\\infty$(자유도 2)와 $l_\\infty$에 있는 두 개의 원형점(자유도 2)이라는 물리적 실체로 주어진다. 이러한 연관성을 이용하는 것이 행렬 분해에서 나타나는 행렬을 지정하는 방식보다 문제를 더 직관적으로 해결할 수 있습니다.\n",
    "\n",
    "$l_\\infty$의 이미지가 결정되면 사영 왜곡을 제거할 수 있고, 원형점의 이미지가 결정되면 아핀 왜곡을 제거할 수 있다. 그러면 남은 왜곡은 닮음 뿐이므로, 이미지의 닮음 속성을 측정할 수 있습니다.\n",
    "\n",
    "<br>"
   ]
  },
  {
   "cell_type": "markdown",
   "metadata": {},
   "source": [
    "## **2.7.1 The line at infinity**\n",
    "\n",
    "사영 왜곡된 이미지에서 무한선(the line at infinity) $l_\\infty$을 식별하면 아핀 속성을 복원할 수 있습니다. 이는 무한선 $l_\\infty$이 사영 변환 H에 고정된다는 것이 H가 아핀 변환인 것과 필요충분조건이기 때문입니다.\n",
    "\n",
    "<img src=\"figures/ch2_7_figure1.png\" style=\"width: 800px;\"/>\n",
    "<br>\n",
    "<img src=\"figures/ch2_7_figure1-2.png\" style=\"width: 600px;\"/>\n",
    "\n",
    "<br>"
   ]
  },
  {
   "cell_type": "markdown",
   "metadata": {},
   "source": [
    "## 2.7.2 Recovery of affine properties from images\n",
    "\n",
    "사영 왜곡된 이미지에서 무한선 $l_\\infty$을 식별하여 무한선의 표준 위치인 $(0, 0, 1)^T$로 보내는 변환을 적용하면, Result 2.17.에 의해 이미지에 적용된 변환은 아핀 변환임을 보일 수 있습니다.\n",
    "\n",
    "즉 이미지의 아핀 속성을 복원한 것입니다. 다음 그림에서 이 핵심 아이디어에 대해 잘 설명하고 있다. 그렇다면 사영 왜곡된 이미지에서의 무한선 $l_\\infty$을 식별하는 방법은 무엇이 있을까요?\n",
    "\n",
    "<img src=\"figures/ch2_7_figure3.png\" style=\"width: 600px;\"/>"
   ]
  },
  {
   "cell_type": "markdown",
   "metadata": {},
   "source": [
    "\n",
    "### **평행선의 교점을 이용한 방법**\n",
    "\n",
    "\n",
    "\n",
    "실세상 평면의 무한선은 원근 이미지에서 평면의 소실선이 됩니다. 다음 그림에서 나와있듯이, 소실선 $l$은 이미지에서 평행선의 교점에서 계산할 수 있습니다.\n",
    "\n",
    "<img src=\"figures/ch2_7_figure4.png\" style=\"width: 700px;\"/>\n",
    "\n",
    "<br>"
   ]
  },
  {
   "cell_type": "markdown",
   "metadata": {},
   "source": [
    "\n",
    "### **길이 비율이 알려진 두 개의 간격을 이용한 방법**\n",
    "\n",
    "또는 길이 비율이 알려진 두 개의 간격이 주어지면 소실점을 결정할 수 있습니다. 일반적인 경우는 이미지의 한 직선에서 세 점이 식별된 경우입니다.\n",
    " $a, b, c$가 실세계에서 대응하는 같은 선상의 점이고, 길이 비율 $d(a,b) : d(b, c) = a : b$가 알려져 있다고 가정합니다. 교차 비율을 사용하면 소실점을 찾아낼 수 있습니다.\n",
    " \n",
    "<img src=\"figures/ch2_7_figure5.png\" style=\"width: 700px;\"/>\n",
    "<br>\n",
    "\n",
    "1. 이미지에서 거리 비율 $d(a', b') : d(b', c') = a' : b'$을 측정한다.\n",
    "2. 점 $a, b, c$를 직선 $<a, b, c>$상의 좌표계에서 좌표 $0, a, a + b$로 표기한다. 계산을 위해 이러한 점들을 2차원 동차 벡터 $(0, 1)^T, (a, 1)^T, (a+b, 1)^T$로 표시한다. 같은 방법으로 $a', b', c'$는 좌표 $0, a', a'+b'$을 가지고 동차 벡터로 표시할 수 있다.\n",
    "3. 위의 두 좌표계를 이용해 $a\\mapsto a', b\\mapsto b', c\\mapsto c'$으로 가는 1차원 사영변환 $H_\\mathbf{2x2}$를 계산한다.\n",
    "4. $H_\\mathbf{2x2}$에 의한 무한점의 이미지가 $<a', b', c'>$의 소실점이 된다.\n",
    "\n",
    "<br>"
   ]
  },
  {
   "cell_type": "markdown",
   "metadata": {},
   "source": [
    "## 2.7.3 The circular points and their dual\n",
    "\n",
    "사영 왜곡된 이미지에서 원형점(the circular points) $I, J$를 식별하면 닮음 속성을 복원할 수 있습니다. 이는 원형점 $I, J$가 사영 변환 H에 고정된다는 것이 H가 닮음 변환인 것과 필요충분조건이기 때문입니다.\n",
    "\n",
    "<img src=\"figures/ch2_7_figure6.png\" style=\"width: 800px;\"/>\n",
    "<br>\n",
    "\n",
    "<img src=\"figures/ch2_7_figure6-2.png\" style=\"width: 600px;\"/>\n",
    "<br>\n",
    "\n",
    "### **원형점에 대한 원뿔 쌍대**\n",
    "\n",
    "사영 왜곡된 이미지에서 원형점에 대한 원뿔 쌍대 $C^*_\\infty$를 식별하여도 닮음 속성을 복원할 수 있습니다. 이는 $C^*_\\infty$가 사영 변환 H에 고정된다는 것이 H가 닮음 변환인 것과 필요충분조건이기 때문입니다. \n",
    "\n",
    "<img src=\"figures/ch2_7_figure7.png\" style=\"width: 800px;\"/>\n",
    "<br>\n",
    "<br>\n",
    "※ 원형점에 대한 원뿔 쌍대 $C^*_\\infty$는 다음과 같이 주어집니다.\n",
    "\n",
    "$C^*_\\infty = IJ^T + JI^T$\n",
    "\n",
    "<br>"
   ]
  },
  {
   "attachments": {},
   "cell_type": "markdown",
   "metadata": {},
   "source": [
    "## 2.7.4 Angles on the projective plane\n",
    "\n",
    "사영 평면에서 $C^*_\\infty$을 결정하면 다음과 같은 방법으로 유클리드 각을 측정할 수 있습니다.\n",
    "\n",
    "<br>\n",
    "\n",
    "<img src=\"figures/ch2_7_figure8.png\" style=\"width: 400px;\"/>\n",
    "\n",
    "<br>\n",
    "\n",
    "위 수식은 사영 변환에서 불변량이며, $l^TC^*_\\infty m = 0$이면 직선 $l$과 $m$은 직교합니다.\n",
    "\n",
    "<br>\n"
   ]
  },
  {
   "attachments": {
    "ch2_7_figure10.png": {
     "image/png": "[encoded data removed]"
    }
   },
   "cell_type": "markdown",
   "metadata": {},
   "source": [
    "## 2.7.5 Recovery of metric properties from images\n",
    "\n",
    "원형점을 표준 위치 $(1, \\pm i, 0)^T$로 변환하면 사영 왜곡된 이미지에서 거리 속성을 복원할 수 있습니다. 그리고 Result 2.21.에 의해 실세상 평면과 복원된 이미지 사이의 변환이 닮음 변환임을 보일 수 있습니다.\n",
    "<br>\n",
    "### $C^*_\\infty$**를 사용한 거리 보정**\n",
    "\n",
    "다음과 같이 $C^*_\\infty$를 이용하여 사영 변환의 닮음 왜곡을 제외하고 사영과 아핀 구성 행렬을 모두 결정할 수 있습니다.\n",
    "<br>\n",
    "<img src=\"figures/ch2_7_figure9.png\" style=\"width: 700px;\"/>\n",
    "<br>\n",
    "\n",
    "### **아핀 왜곡된 이미지에서 거리 속성 복원**\n",
    "\n",
    "이미지가 아핀 보정이 됐다고 가정하면, 거리 보정을 위해 원형점의 자유도 2를 결정하는 제약 조건 2개가 필요합니다. 실세상 평면에서 직각인 두 개의 이미지에서 제약 조건을 얻을 수 있습니다.\n",
    "\n",
    "아핀 정정 이미지의 직선 $l', m'$이 실세계에서 직교하는 선 $l, m$에 대응한다고 가정하면 $l'^TC^*_\\infty m = 0, \\mathbf{v} = \\mathbf{0}$을 이용할 수 있고, 바로 위에서 언급된 $C^*_\\infty$’에 대한 공식을 다음과 같이 정리할 수 있습니다.\n",
    "\n",
    "![ch2_7_figure10.png](attachment:ch2_7_figure10.png)\n",
    "\n",
    "이것은 2 X 2 행렬 $\\mathbf{S} = KK^T$에 대한 선형 제약조건이다. 행렬 $\\mathbf{S}$는 대칭이므로 3개의 독립 원소를 가지며, scaling은 중요하지 않으므로 자유도는 2입니다.\n",
    "\n",
    "따라서 두 선의 직교 조건은 $(l'_1m'_1, l'_1m'_2 + l'_2m'_1, l'_2m'_2)\\mathbf{s} = 0$으로 표기할 수 있습니다. 이러한 방식으로 두 개의 직교하는 선 쌍에서 제약조건 두 개를 얻으면, Cholesky Decomposition을 이용하여 $K$를 구해낼 수 있고, $C^*_\\infty$’를 계산할 수 있습니다.\n",
    "\n",
    "<br>\n",
    "\n",
    "### **원본 이미지에서 거리 속성 복원**\n",
    "\n",
    "\n",
    "아핀 왜곡된 이미지에서 거리 속성 복원한 위 사례와 유사하게,  원본 이미지에서 바로 거리 속성을 복원할 수 있습니다. 직선 $l$과 $m$을 실세상 평면에서 직교하는 직선의 이미지로 가정하면 $l'^TC^*_\\infty m = 0$을 이용할 수 있고, 다음과 같이 $C^*_\\infty$에 대한 선형 제약 조건을 얻습니다.\n",
    "\n",
    "<br>\n",
    "<img src=\"figures/ch2_7_figure11.png\" style=\"width: 800px;\"/>\n",
    "<br>\n",
    "\n",
    "여기에서 \n",
    "$\\mathbf{c} = (a, b, c, d, e, f)^T$는 6차원 벡터로 표기한 $C^*_\\infty$의 원뿔 행렬입니다. 이러한 제약조건 5개로 5 X 6 행렬을 만들면 $\\mathbf{c}$는 ($C^*_\\infty$) null vector가 됩니다. 따라서 $C^*_\\infty$는 실세계에서 직교하는 다섯 선 쌍에서 선형적으로 결정할 수 있습니다.\n",
    "<br>\n",
    "\n",
    "### **계층화**\n",
    "\n",
    "$C^*_\\infty$ 를 식별하여 원본 이미지에서 아핀 왜곡과 사영 왜곡을 한 번에 정정하는 방법을 배웠습니다. 그리고 사영 왜곡을 먼저 제거하고 아핀 왜곡을 제거하는 방법도 배웠습니다. 이러한 2단계 접근 방식을 계층화라고 합니다. 비슷한 접근 방식을 3차원에서도 적용할 수 있습니다."
   ]
  },
  {
   "cell_type": "markdown",
   "metadata": {},
   "source": []
  },
  {
   "cell_type": "code",
   "execution_count": null,
   "metadata": {},
   "outputs": [],
   "source": []
  }
 ],
 "metadata": {
  "kernelspec": {
   "display_name": "Python 3",
   "language": "python",
   "name": "python3"
  },
  "language_info": {
   "codemirror_mode": {
    "name": "ipython",
    "version": 3
   },
   "file_extension": ".py",
   "mimetype": "text/x-python",
   "name": "python",
   "nbconvert_exporter": "python",
   "pygments_lexer": "ipython3",
   "version": "3.8.10"
  }
 },
 "nbformat": 4,
 "nbformat_minor": 4
}

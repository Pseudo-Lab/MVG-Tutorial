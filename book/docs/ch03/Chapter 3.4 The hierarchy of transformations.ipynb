{
 "cells": [
  {
   "cell_type": "markdown",
   "metadata": {},
   "source": [
    "# 3.4 The hierarchy of transformations"
   ]
  },
  {
   "cell_type": "markdown",
   "metadata": {},
   "source": [
    "## Isometry"
   ]
  },
  {
   "cell_type": "markdown",
   "metadata": {},
   "source": [
    "## Similar"
   ]
  },
  {
   "cell_type": "markdown",
   "metadata": {},
   "source": [
    "## Affine"
   ]
  },
  {
   "cell_type": "markdown",
   "metadata": {},
   "source": [
    "## 3D Projective transformation\n",
    "<br>\n",
    "3D Projective transformation은 2.4절에서 설명한 2D Projective transformation과 유사한 개념으로, 3D 공간에 대한 이동이 뒤따르는 선형 정칙 변환입니다.\n",
    "<br>\n",
    "\n",
    "- 변하지 않는 특성:\n",
    "    - 접촉하는 곡면 사이의 교차(Intersection)와 접함(tangency)\n",
    "    - 가우스 곡률의 부호\n",
    "    <br>\n",
    "    <br>\n",
    "- 변환 행렬의 형태 (15dof): \n",
    "\n",
    "    - $\\begin{bmatrix} \\mathsf{A} & \\mathbf{t} \\\\ \\mathbf{v}^\\mathsf{T} & 1 \\end{bmatrix}$"
   ]
  },
  {
   "cell_type": "markdown",
   "metadata": {},
   "source": [
    "### Example - 3D Projective transformation "
   ]
  },
  {
   "cell_type": "code",
   "execution_count": 2,
   "metadata": {},
   "outputs": [
    {
     "name": "stdout",
     "output_type": "stream",
     "text": [
      "Jupyter environment detected. Enabling Open3D WebVisualizer.\n",
      "[Open3D INFO] WebRTC GUI backend enabled.\n",
      "[Open3D INFO] WebRTCWindowSystem: HTTP handshake server disabled.\n"
     ]
    }
   ],
   "source": [
    "import open3d as o3d\n",
    "import matplotlib.pyplot as plt\n"
   ]
  },
  {
   "cell_type": "markdown",
   "metadata": {},
   "source": [
    "**Read Image**"
   ]
  },
  {
   "cell_type": "code",
   "execution_count": 3,
   "metadata": {},
   "outputs": [
    {
     "name": "stdout",
     "output_type": "stream",
     "text": [
      "Read Redwood dataset\n",
      "RGBDImage of size \n",
      "Color image : 640x480, with 1 channels.\n",
      "Depth image : 640x480, with 1 channels.\n",
      "Use numpy.asarray to access buffer data.\n"
     ]
    }
   ],
   "source": [
    "print(\"Read Redwood dataset\")\n",
    "redwood_rgbd = o3d.data.SampleRedwoodRGBDImages()\n",
    "color_raw = o3d.io.read_image(redwood_rgbd.color_paths[0])\n",
    "depth_raw = o3d.io.read_image(redwood_rgbd.depth_paths[0])\n",
    "rgbd_image = o3d.geometry.RGBDImage.create_from_color_and_depth(\n",
    "    color_raw, depth_raw)\n",
    "print(rgbd_image)"
   ]
  },
  {
   "cell_type": "markdown",
   "metadata": {},
   "source": [
    "**Visualize Original 3D image (point cloud)**"
   ]
  },
  {
   "cell_type": "code",
   "execution_count": 8,
   "metadata": {},
   "outputs": [],
   "source": [
    "pcd = o3d.geometry.PointCloud.create_from_rgbd_image(\n",
    "    rgbd_image,\n",
    "    o3d.camera.PinholeCameraIntrinsic(\n",
    "        o3d.camera.PinholeCameraIntrinsicParameters.PrimeSenseDefault))\n",
    "# Flip it, otherwise the pointcloud will be upside down\n",
    "pcd.transform([[1, 0, 0, 0], [0, -1, 0, 0], [0, 0, -1, 0], [0, 0, 0, 1]])\n",
    "\n",
    "o3d.visualization.draw_geometries([pcd])"
   ]
  },
  {
   "cell_type": "markdown",
   "metadata": {},
   "source": [
    "Original Image :\n",
    "<img src=\"figures/ch_3_4_figure/ch3_4_4_figure1.PNG\" style=\"width: 300px;\"/>"
   ]
  },
  {
   "cell_type": "markdown",
   "metadata": {},
   "source": [
    "**Apply projective transformation**"
   ]
  },
  {
   "cell_type": "code",
   "execution_count": null,
   "metadata": {},
   "outputs": [],
   "source": [
    "pcd.transform([[0.9, -0.25, 0.15, 0], [0.35, 1.3, -0.3, 0], [0.15, 0, 0.7, 0], [0.1, 0.3, -0.5, 1]])\n",
    "\n",
    "o3d.visualization.draw_geometries([pcd])"
   ]
  },
  {
   "cell_type": "markdown",
   "metadata": {},
   "source": [
    "3D projective transformed Image :\n",
    "<img src=\"figures/ch_3_4_figure/ch3_4_4_figure2.PNG\" style=\"width: 300px;\"/>"
   ]
  },
  {
   "cell_type": "markdown",
   "metadata": {},
   "source": [
    "#### Apply Affine transformation\n",
    "> Affine 변환은 회전변환, 평행이동에 이어, x,y좌표로 당기고 미는(stretch) 변환입니다.\n",
    "평행선은 변환 후에도 변하지 않고 유지됩니다.\n",
    "- 변하지 않는 특성:\n",
    "    - 평면의 평행성\n",
    "    - 부피비\n",
    "    - 중심\n",
    "    - 무한성에서 평면\n",
    "- Matrix: \n",
    "    $\\begin{bmatrix} \\mathsf{A} & \\mathbf{t} \\\\ \\mathbf{0}^\\mathsf{T} & 1 \\end{bmatrix}$\n",
    "\n",
    "변환 코드는 다음과 같습니다."
   ]
  },
  {
   "cell_type": "code",
   "execution_count": 17,
   "metadata": {},
   "outputs": [],
   "source": [
    "\n",
    "pcd.transform([[0.9, -0.25, 0.15,  0], \n",
    "               [0.35, 1.3, -0.3,   0], \n",
    "               [   0,   0,    0,   0], \n",
    "               [   0,   0,    0,   1]])\n",
    "\n",
    "o3d.visualization.draw_geometries([pcd])"
   ]
  },
  {
   "cell_type": "markdown",
   "metadata": {},
   "source": [
    "3D Affine transformed Image :\n",
    "<img src=\"figures/ch_3_4_figure/ch3_4_4_figure3.PNG\" style=\"width: 300px;\"/>"
   ]
  },
  {
   "cell_type": "markdown",
   "metadata": {},
   "source": []
  }
 ],
 "metadata": {
  "kernelspec": {
   "display_name": "Python 3",
   "language": "python",
   "name": "python3"
  },
  "language_info": {
   "codemirror_mode": {
    "name": "ipython",
    "version": 3
   },
   "file_extension": ".py",
   "mimetype": "text/x-python",
   "name": "python",
   "nbconvert_exporter": "python",
   "pygments_lexer": "ipython3",
   "version": "3.8.10"
  }
 },
 "nbformat": 4,
 "nbformat_minor": 4
}

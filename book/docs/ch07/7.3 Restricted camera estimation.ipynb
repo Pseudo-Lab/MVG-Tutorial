{
 "cells": [
  {
   "cell_type": "markdown",
   "metadata": {},
   "source": [
    "# 7.3 Restricted camera estimation\n",
    "\n",
    "지금까지 설명한 DLT 알고리즘은 3차원 점과 2차원 점의 대응에서 일반 사영 카메라 행렬 $\\mathbf{P}$를 계산합니다. 유한점에 중심이 있는 행렬 $\\mathbf{P}$는 $\\mathbf{P}$ = K[R | -$\\tilde{\\mathbf{C}}$]로 분해할 수 있습니다. 여기에서 R은 3 x 3 회전 행렬이고, K는 다음과 같은 형태를 가집니다. <br><br>\n",
    "\n",
    "<center style=\"font-size:120%\">\n",
    "K = $\\begin{bmatrix}\\alpha_x&s&x_0\\\\0&\\alpha_y&y_0\\\\ 0&0&1\\\\ \\end{bmatrix}$\n",
    "</center> <br><br>\n",
    "\n",
    "K에서 영이 아닌 성분은 P의 내부 calibration 파라미터로서 기하학적인 의미를 가집니다. 카메라 파라미터의 제약 조건을 만족하며 실제 카메라와 가장 잘 맞는 카메라 행렬 P를 추정하고자 합니다. 이 때 주로 사용되는 가정은 다음과 같습니다.\n",
    "\n",
    "1. 왜도(skew) s는 0이다.\n",
    "2. 픽셀은 정사각형이다. ($\\alpha_x$ = $\\alpha_y$)\n",
    "3. 주점 ($x_0, y_0$)을 알고 있다.\n",
    "4. 카메라 보정 행렬 K를 완전히 알고 있다.\n",
    "\n",
    "종종 제한된 카메라 행렬을 선형 알고리즘으로 추정할 수 있습니다. <br>\n",
    "제한 추정의 예로서, 측정점의 집합을 가장 잘 맞추는 pinhole 카메라 모델을 찾고자 합니다. 이 문제는 기하 오차 또는 대수 오차를 최소화해 풀 수 있습니다."
   ]
  },
  {
   "cell_type": "markdown",
   "metadata": {},
   "source": [
    "### 기하 오차의 최소화\n",
    "기하 오차를 최소화하기 위해 계산할 카메라 행렬을 특징짓는 매개 변수 집합을 선택합니다. 예를 들어 제약조건 s = 0과 $\\alpha_x$ = $\\alpha_y$을 적용한다고 가정합니다. 그러면 나머지 9개의 매개변수를 사용해 카메라 행렬을 매개변수화할 수 있습니다. <br><br>\n",
    "\n",
    "이러한 것은 $x_0, y_0, \\alpha$ 그리고 카메라의 방향 $\\mathbf{R}$과 위치 $\\tilde{\\mathbf{C}}$를 나타내는 6개의 변수입니다. 변수들의 집합을 전체적으로 $\\mathbf{q}$로 표기합니다. 그러면 카메라 행렬 P는 매개변수를 이용해 명시적으로 계산할 수 있습니다. <br><br>\n",
    "\n",
    "그런 다음 반복 최적화 방법을 이용해 매개변수 집합에 대해 기하 오차를 최소화할 수 있습니다. 이미지 오차만 최소화하는 경우의 최소화 문제의 크기는 9 x 2n입니다. 즉 반복 최적화 방법을 이용해 함수 $f : \\mathbf{R}^9 \\rightarrow \\mathbf{R}^{2n}$ 을 최소화하는 것입니다. 3차원과 2차원 오차를 최소화하는 경우의 함수 $f$는 $\\mathbf{R}^{3n+9} \\rightarrow \\mathbf{R}^{5n}$입니다. 3차원 점을 측정에 포함하여야 하고 최소화에서 3차원 점의 참값 또한 추정해야 하기 때문입니다."
   ]
  },
  {
   "cell_type": "markdown",
   "metadata": {},
   "source": [
    "### 대수 오차의 최소화\n",
    "대수 오차를 최소화하여 카메라 행렬 $\\mathbf{P}$를 추정할 수 있습니다. 이 경우에 반복 최적화 문제는 훨씬 작아집니다. <br><br>\n",
    "\n",
    "매개변수 집합 $\\mathbf{q}$를 대응하는 카메라 행렬 $\\mathbf{P}$ = K[R | -R$\\tilde{\\mathbf{C}}$]로 보내는 매개변수 함수 g를 생각해보겠습니다. $\\mathbf{p} = g(\\mathbf{q}$이며, $\\mathbf{p}$는 행렬 $\\mathbf{P}$의 원소로 구성된 벡터입니다. 대응하는 모든 점에 대한 대수 오차를 최소화하는 것은 $\\begin{Vmatrix} \\mathbf{A}g(\\mathbf{q})\\end{Vmatrix}$를 초기화하는 것과 같습니다."
   ]
  },
  {
   "cell_type": "markdown",
   "metadata": {},
   "source": [
    "### 축약된 측정 행렬\n",
    "일반적으로 2n x 12행렬 A는 매우 큰 수의 행을 가집니다. 모든 벡터 $\\mathbf{p}$에 대해 $\\begin{Vmatrix} \\mathbf{A}\\mathbf{p}\\end{Vmatrix}$ = $\\mathbf{p}^\\top\\mathbf{A}^\\top\\mathbf{A}\\mathbf{p} = \\begin{Vmatrix} \\hat{\\mathbf{A}}\\mathbf{p}\\end{Vmatrix}$가 되도록 A를 12 x 12의 정방 행렬 $\\top{\\mathbf{A}}$로 대체할 수 있습니다. <br><br>\n",
    "\n",
    "이러한 행렬 $\\top{\\mathbf{A}}$를 축약 측정 행렬(Reduced Measurement Matrix)라고 합니다. 이를 수행하는 한 가지 방법은 특이값 분해(SVD, Singular Value Decomposition)입니다. $\\mathbf{A = UDV}^\\top$가 A의 SVD면 $\\hat{\\mathbf{A}} = \\mathbf{DV}^\\top$을 정의합니다. 그러면 원하는 대로 다음을 얻을 수 있습니다. <br><br>\n",
    "\n",
    "<center style=\"font-size:120%\">\n",
    "$\\mathbf{A^\\top A}$ = ($\\mathbf{VDU^\\top}$)($\\mathbf{UDV^\\top}$) = ($\\mathbf{VD}$)($\\mathbf{DV^\\top}$) = $\\hat{\\mathbf{A^\\top}\\hat{\\mathbf{A}}}$\n",
    "</center>"
   ]
  },
  {
   "cell_type": "markdown",
   "metadata": {},
   "source": [
    "$\\hat{\\mathbf{A}}$을 얻는 다른 방법은 $\\mathbf{QR}$ decomposition $\\mathbf{A = Q\\hat{A}}$을 이용하는 것입니다. 여기에서 $\\mathbf{Q}$는 직교 열벡터를 가지고 $\\hat{\\mathbf{A}}$는 위삼각 정방 행렬입니다. <br><br>\n",
    "\n",
    "함수 $\\mathbf{q} \\rightarrow \\hat{\\mathbf{A}}g(\\mathbf{q})$는 $\\mathbf{R}^9$에서 $\\mathbf{R}^{12}$로의 함수임에 주의합니다. 이것은 Levenberg–Marquardt method을 사용해 풀 수 있는 간단한 매개변수 최소화 문제입니다. 주의해야 할 부분은 다음과 같습니다. <br>\n",
    "- n개의 실세계와 이미지의 대응 $\\mathbf{X}_i \\leftrightarrow \\mathbf{x}_i$가 주어지면, 대수 거리의 합을 최소화하는 제한된 카메라 행렬 $\\mathbf{P}$를 찾는 문제는 대응하는 개수 n에 무관한 함수 $\\mathbf{R}^{9}$ $\\rightarrow$ $\\mathbf{R}^{12}$를 최소화하는 것으로 축약된다."
   ]
  },
  {
   "cell_type": "markdown",
   "metadata": {},
   "source": [
    "$\\begin{Vmatrix}\\hat{\\mathbf{A}}g(\\mathbf{q})\\end{Vmatrix}$의 최소화는 매개변수 $\\mathbf{q}$의 모든 값에서 이루어집니다. $\\mathbf{P}$ = K [R | -R$\\tilde{\\mathbf{C}}$]가 7.3장의 초반 부분에서 설명하였던 것과 같은 형태를 가지면, $\\mathbf{P}$는 조건 $p^2_{31} + p^2_{32} + p^2_{33} = 1$을 만족합니다. 회전 행렬 R의 마지막 행이 조건을 만족하기 때문입니다. <br><br>\n",
    "\n",
    "그러므로 $\\mathbf{A}g(\\mathbf{q}$을 최소화하면 제약 조건 s = 0과 $\\alpha_x = \\alpha_y$를 만족하고, $p^2_{31} + p^2_{32} + p^2_{33} = 1$을 만족하도록 배율이 조정되며 모든 대응에 대해 대수 오차를 최소화하는 행렬 $\\mathbf{P}$를 얻습니다."
   ]
  },
  {
   "cell_type": "markdown",
   "metadata": {},
   "source": []
  },
  {
   "cell_type": "markdown",
   "metadata": {},
   "source": []
  }
 ],
 "metadata": {
  "kernelspec": {
   "display_name": "Python 3",
   "language": "python",
   "name": "python3"
  },
  "language_info": {
   "codemirror_mode": {
    "name": "ipython",
    "version": 3
   },
   "file_extension": ".py",
   "mimetype": "text/x-python",
   "name": "python",
   "nbconvert_exporter": "python",
   "pygments_lexer": "ipython3",
   "version": "3.6.9"
  }
 },
 "nbformat": 4,
 "nbformat_minor": 2
}

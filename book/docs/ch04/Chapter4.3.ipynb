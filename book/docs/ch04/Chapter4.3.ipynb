{
 "cells": [
  {
   "cell_type": "markdown",
   "metadata": {},
   "source": [
    "# 4.3 Statical Cost functions and Maximum Likelihood estimation"
   ]
  },
  {
   "cell_type": "markdown",
   "metadata": {},
   "source": [
    "이미지에서 포인트 측정의 통계학적 에러를 고려함으로써 cost function은 일반화됩니다."
   ]
  },
  {
   "cell_type": "markdown",
   "metadata": {},
   "source": [
    "가장 최적의 $H$를 얻기위해서는 측정에러에대한 모델링이 필요합니다.  일반적으로 가우시안 확률 분포를 따른다고 가정합니다. 하지만 이는 아웃라이어의 존재를 설명하지 못하기때문에 아웃라이어들을 제거해야합니다. 그러므로 에러는  *0-평균 등방성 가우시안(isotropic Gaussian distribution)* 을따른다고 가정합니다. "
   ]
  },
  {
   "cell_type": "markdown",
   "metadata": {},
   "source": [
    "예를 들어 이미지 좌표가 평균이 0이고 uniform한 표준편차 $\\sigma$ 라고 가정해보자. 이는 $x = \\bar{x} + \\Delta x$ 이며, 이때 $\\Delta x$가 분산이 $\\sigma^2$인 가우시안 분포를 따른다는 의미이다. 더나아가 각 측정이 독립적이라면 확률 밀도 함수(PDF)는 다음과 같이 측정이 된다\n",
    "$$\\mathbf{Pr}(x) = (\\frac{1}{2\\pi \\sigma ^ 2})e^{-d(\\mathbf{x, \\bar{x}})/(2\\sigma^2)}$$"
   ]
  },
  {
   "cell_type": "markdown",
   "metadata": {},
   "source": [
    "**하나의 이미지에서의 에러**\n",
    "첫번째로 우리는 오직 두번째 이미지만 에러가 있다고 가정합니다. $\\{\\mathbf{x \\leftrightarrow\\bar{x}}\\}$ 각 대응쌍의 집합의 확률은 포인트가 독립적이라고 가정하기 때문에 단순히 각 PDF를 곱하면 됩니다. 그리고나서 노이즈가 있는 데이터는 아래와 같이 표현됩니다.\n",
    "$$\\mathbf{Pr}(\\{\\mathbf{x^{\\prime}_i|H}\\}) = \\prod(\\frac{1}{2\\pi \\sigma ^ 2})e^{-d(\\mathbf{x_i^\\prime, H\\bar{x}})/(2\\sigma^2)}$$\n",
    "\n",
    "$\\mathbf{Pr}(\\{\\mathbf{x^{\\prime}_i|H}\\})$는 homography가 $\\mathbf{H}$라 주어졌을때 측정값들을 의미합니다. 대응값들의 log를 취하면\n",
    "$$\\mathbf{logPr}(\\{\\mathbf{x^{\\prime}_i|H}\\}) = -\\frac{1}{2\\sigma^2}\\sum{d(\\mathbf{x^{\\prime}_i, H\\bar{x}})^2}+\\mathrm{constant}$$\n",
    "\n",
    "이떄 homography $\\mathtt{\\hat{H}}$의 *최대 우도추정값 (Maximum Likelihood estimation(MLE)* 은 로그-우도를 최대화하면됩니다. 예를 들면, $$\\sum{d(\\mathbf{x^{\\prime}_i, H\\bar{x}})^2}$$를 최소화하면됩니다. 따라서 ML 추정은 기하 에러 함수를 최소화하는것과 동일합니다. "
   ]
  },
  {
   "cell_type": "markdown",
   "metadata": {},
   "source": [
    " **두 이미지에서의 에러** 위에 흐름과 비슷하게 전개를 하자면, 만약 참인 쌍들이 $\\{{\\mathbf{\\bar{x}_i, \\leftrightarrow \\mathtt{H}{\\bar{x}}=x^{\\prime}_i}}\\}$ 노이즈가 있는 데이터의 PDF는 아래와같습니다.\n",
    "$$\\mathbf{Pr}(\\{\\mathbf{x_i, x^{\\prime}_i\\}|H,\\{x^{\\prime}_i}\\}) = \\prod(\\frac{1}{2\\pi \\sigma ^ 2})e^{-(d(\\mathbf{x_i^\\prime, \\bar{x}_i})+d(\\mathbf{x_i^\\prime, H\\bar{x}_i}))/(2\\sigma^2)}$$ \n",
    "\n",
    "부가적으로 고려해야할 사항은 true측정들의 역할을 하기위해서 우리가 \"올바른\" 이미지 측정들을 찾아야한다는것입니다. ($\\mathtt{H}\\bar{\\mathbf{x}}$) 따라서 투엉 행렬 $\\mathtt{H}$와 대응집합 $\\{\\mathbf{x \\leftrightarrow\\bar{x}}\\}$ 의 ML 추정은 다음을 최소화하는 것입니다:\n",
    "\n",
    "$$\\sum{d(\\mathbf{x_i, \\hat{x}_i})^2 + d(\\mathbf{x^{\\prime}_i}, \\mathbf{\\hat{x}}^{\\prime}_i})^2$$\n",
    "\n",
    "이경우에, ML추정은 reprojection 에러 함수를 최소화하는것과 동일합니다."
   ]
  },
  {
   "cell_type": "markdown",
   "metadata": {},
   "source": [
    "**마할라노비스 거리**\n",
    "일반적인 가우시안을 따르는 경우에 측정 벡터 $\\mathbf{X}$가 공분산 $\\Sigma$와 함께 가우시안 분포함수를 만족한다고 가정할 수 있습니다. 위의경우는 다중 identity가 있는 공분산 행렬과 동일합니다. \n",
    "\n",
    "로그 우도를 최대화하는것은 마할라노비스거리를 최소화 하는것과 동일합니다.\n",
    "$$||\\mathbf{X - \\bar{X}}||^{2}_\\mathtt{\\Sigma} = (\\mathbf{X-\\bar{X}})\\mathtt{\\Sigma}^{-1}(\\mathbf{X-\\bar{X}})$$\n",
    "\n",
    "이경우에 두이미지에 에러가 있지만 하나의 이미지에서의 에러들은 독립적이라고 가정합니다. 이때 적절한 cost function은 아래와같습니다. $$||\\mathbf{X - \\bar{X}}||^{2}_\\mathtt{\\Sigma} + ||\\mathbf{X^\\prime - \\bar{X^\\prime}}||^{2}_\\mathtt{\\Sigma}$$ \n",
    "\n",
    "두이미지에서 측정들의 공분산 매트릭스 $\\Sigma$ 와 $\\Sigma^\\prime$ 를 사용합니다. \n",
    "\n",
    "드디어, 우리는 모든 지점 $\\mathbf{x}_i$와 $\\mathbf{x}^{\\prime}_i$ 에서의 에러들이 독립적이라면 다음과 같이 표현을 바꿀 수 있습니다.\n",
    "$$\\sum||\\mathbf{x_i - \\bar{x}_i}||^{2}_\\mathtt{\\Sigma} + \\sum||\\mathbf{x^{\\prime}_i - \\bar{x}^{\\prime}_i}||^{2}_\\mathtt{\\Sigma}$$ \n",
    "이 등식은 anostropic 공분산 행렬 타입의 통합할 수 있습니다. 이때 두개의 비수직인 교차함으로써 계산되는 지점입니다. 이경우에는 포인트들이 정확히 두이미지에서 나왔으며, 에러들은 다른이미지에서 확정됩니다. 두 용어의 합은 (4.16)에서 사라집니다. "
   ]
  },
  {
   "cell_type": "code",
   "execution_count": null,
   "metadata": {},
   "outputs": [],
   "source": []
  },
  {
   "cell_type": "code",
   "execution_count": null,
   "metadata": {},
   "outputs": [],
   "source": []
  },
  {
   "cell_type": "code",
   "execution_count": null,
   "metadata": {},
   "outputs": [],
   "source": []
  }
 ],
 "metadata": {
  "kernelspec": {
   "display_name": "JBOOK",
   "language": "python",
   "name": "python3"
  },
  "language_info": {
   "name": "python",
   "version": "3.8.16"
  },
  "orig_nbformat": 4
 },
 "nbformat": 4,
 "nbformat_minor": 2
}

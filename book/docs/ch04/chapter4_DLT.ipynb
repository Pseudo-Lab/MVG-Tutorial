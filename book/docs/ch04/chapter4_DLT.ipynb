{
 "cells": [
  {
   "cell_type": "markdown",
   "metadata": {},
   "source": [
    "이번 절에서는 DLT 알고리즘에 대해 다룹니다.\n",
    "서로 같은 공간을 담은(여러 각도에서 찍은) 두 이미지의 대응쌍$x_i ↔ x_i^`$이 주어졌을 때"
   ]
  },
  {
   "cell_type": "code",
   "execution_count": null,
   "metadata": {},
   "outputs": [],
   "source": []
  }
 ],
 "metadata": {
  "language_info": {
   "name": "python"
  },
  "orig_nbformat": 4
 },
 "nbformat": 4,
 "nbformat_minor": 2
}

{
 "cells": [
  {
   "attachments": {},
   "cell_type": "markdown",
   "id": "cd45ee48",
   "metadata": {},
   "source": [
    "# 4.2 Different cost functions\n",
    "조건이 많은 경우 H를 결정하기 위해 최소화하는 cost function들에 대해 알아봅니다."
   ]
  },
  {
   "attachments": {},
   "cell_type": "markdown",
   "id": "3a84a292",
   "metadata": {},
   "source": [
    "## 4.2.1 Algebraic distance\n",
    "\n",
    "DLT 알고리즘은 norm $||\\text{A}h||$를 최소화합니다. 이 때, vector $\\epsilon = \\text{A}h$를 residual vector라고 합니다.\n",
    "\n",
    "이 residual vector의 원소들을 $\\epsilon_i$라 할 때, 이들을 partial error vector라 합니다.<br>\n",
    "또한, mapping $x_i \\leftrightarrow x_i'$와 homography H와 관련된 algebraic error vector 라고도 합니다.<br>\n",
    "따라서 이 vector의 norm을 algebraic distance라고 합니다. 수식은 아래와 같습니다.\n",
    "\n",
    "$$\n",
    "d_{alg}(x_i', \\text{H}x_i)^2 = ||\\epsilon_i||^2 = \\bigg\\|\\begin{bmatrix}\n",
    "0^\\intercal & -w_i'\\text{x}_i^\\intercal &y_i'\\text{x}_i^\\intercal \\\\\n",
    "-w_i'\\text{x}_i^\\intercal & 0^\\intercal & -x_i'\\text{x}_i^\\intercal\n",
    "\\end{bmatrix}h\\bigg\\|^2\n",
    "$$\n",
    "\n",
    "좀 더 간단하게 임의의 두 mapping vector 쌍 $\\text{x}_1, \\text{x}_2$에 대해서는 아래와 같이 표현할 수 있습니다.\n",
    "\n",
    "$$\n",
    "d_{alg}(\\text{x}_1, \\text{x}_2)^2 = a_1^2 + a_2^2, where \\ \\text{a}=(a_1,a_2,a_3)^\\intercal = \\text{x}_1 \\times \\text{x}_2\n",
    "$$\n",
    "\n",
    "일련의 대응이 주어진다면 $\\epsilon = \\text{A}h$는 완벽한 mapping에 대한 error vector가 되고 아래의 수식을 만족합니다.\n",
    "\n",
    "$$\n",
    "d_{alg}(x_i', \\text{H}x_i)^2 = \\sum_i \\|\\epsilon_i\\|^2 = \\|\\text{A}h\\| = \\|\\epsilon\\|^2\n",
    "$$\n",
    "\n",
    "이러한 algebraic distance의 장점은 선형이기 때문에 유일한 해가 있고, 계산 비용이 저렴합니다.<br>\n",
    "또한 이후 4.4에서 도입할 정규화를 이용하면 매우 좋은 결과를 얻을 수 있습니다.\n",
    "\n",
    "단점으로는 최소화 되는 양이 기하학적으로나 통계적으로 의미가 없다는 것입니다."
   ]
  },
  {
   "attachments": {},
   "cell_type": "markdown",
   "id": "f372140a",
   "metadata": {},
   "source": [
    "## 4.2.2 Geometric distance\n",
    "Geometric distance는 이미지의 측정된 좌표와 추정된 좌표의 차이를 최소화 합니다.\n",
    "\n",
    "**표기법** \n",
    "\n",
    "$\\text{x}$ : 측정한 이미지 좌표<br>\n",
    "$\\hat{\\text{x}}$ : 점의 추정값<br>\n",
    "$\\bar{\\text{x}}$ : 점의 참값<br>\n",
    "\n",
    "**********************Symmetric transfer error**********************\n",
    "\n",
    "현실적으로 생각하면 두 이미지에서 모두 측정 오차가 발생할 수 있기 때문에, 두 이미지 모두에서 오차를 최소화 하는 것이 좋습니다.<br>\n",
    "이를 위해 이미지 $\\text{I}_1$의 좌표 벡터 $\\text{x}_i$와 이미지 $\\text{I}_2$의 좌표 벡터 $\\text{x}_i'$가 있다고 할 때, $\\text{I}_1 \\rightarrow \\text{I}_2$로의 사영 변환을 $\\text{H}$라 가정합니다. 이 때 오차 수식은 아래와 같이 정의할 수 있습니다.\n",
    "\n",
    "$$\n",
    "\\sum_i (d(\\text{x}_i, \\text{H}^{-1}\\text{x}_i')^2 + d(\\text{x}_i',\\text{Hx}_i)^2)\n",
    "$$\n",
    "\n",
    "여기서 왼쪽 항은 첫 번째 이미지에서의 error, 오른쪽 항은 두 번째 이미지에서의 error를 나타냅니다. 이것을 최소화 한 것이 추정한 homography $\\hat{\\text{H}}$이 됩니다."
   ]
  },
  {
   "attachments": {},
   "cell_type": "markdown",
   "id": "6f5d3769",
   "metadata": {},
   "source": [
    "## 4.2.3 Reprojection error - both images\n",
    "\n",
    "또 다른 방법으로는, 각 대응에 대해서 얼마나 고쳐야 참값과 일치하는지를 추정하는 것이 있습니다.<br>\n",
    "수식으로 나타내면 아래와 같이 표현됩니다.\n",
    "\n",
    "$$\n",
    "\\sum_i d(\\text{x}_i, \\hat{\\text{x}_i})^2 + d(\\text{x}_i', \\hat{\\text{x}_i'})^2\n",
    "$$\n",
    "\n",
    "![Untitled](./figures/ch_4_2_figure/ch_4_2_figure1.png)\n",
    "\n",
    "위 그림 4.2는 Symmetric transfer error와 Reprojection error를 비교하여 보여줍니다. \n",
    "\n",
    "Symmetric transfer error와 Reprojection error의 다른 점은<br>\n",
    "symmetric transfer error는 homography를 얻기 위해 $\\text{I}_1$에서 $\\text{I}_2$로 이동된 점을 가지고 비교해서 homography H의 정확도를 비교하는 것입니다.<br>\n",
    "하지만 Reprojection error는 H는 정확하다 가정하고, 점에서의 오류를 바로 잡는 것이라고 볼 수 있습니다."
   ]
  },
  {
   "attachments": {},
   "cell_type": "markdown",
   "id": "df2b4f26",
   "metadata": {},
   "source": [
    "## 4.2.4 Comparison of geometric and algebraic distance\n",
    "\n",
    "두 번째 이미지에서만 오차가 있는 경우를 생각해봅시다.<br>\n",
    "$\\text{x}_i=(x_i', y_i',w_i')^\\intercal$이고, $(\\hat{x}_i, \\hat{y}_i, \\hat{w}_i)^\\intercal = \\bar{\\text{x}}_i' = \\text{H}\\bar{\\text{x}}_i$라고 정의하겠습니다. 이와 같은 표기법에서 앞의 DLT 알고리즘의 (4.3) 수식의 좌변은 아래와 같이 됩니다.\n",
    "\n",
    "$$\n",
    "\\text{A}_ih = \\epsilon_i = \\begin{pmatrix}\n",
    "y_i'\\hat{w}_i' - w_i'\\hat{y}_i' \\\\\n",
    "w_i'\\hat{x}_i' - x_i'\\hat{w}_i'\n",
    "\\end{pmatrix}\n",
    "$$\n",
    "\n",
    "이는 점 mapping $\\text{x}_i \\leftrightarrow \\text{x}_i'$와 camera projection $\\text{H}$와 관련된 algebraic vector error 입니다.<br>\n",
    "따라서 아래와 같이 norm이 계산됩니다.\n",
    "\n",
    "$$\n",
    "d_{alg}(\\text{x}_i', \\hat{\\text{x}_i}')^2 = (y_i'\\hat{w}_i' - w_i'\\hat{y}_i')^2 + \n",
    "(w_i'\\hat{x}_i' - x_i'\\hat{w}_i')^2\n",
    "$$\n",
    "\n",
    "Geometric distance는 아래와 같이 계산되며, 정리할 수 있습니다.\n",
    "\n",
    "$$\n",
    "d_{alg}(\\text{x}_i', \\hat{\\text{x}_i}') = \\big((x_i'/w_i' - \\hat{x}_i'/\\hat{w}_i')^2 + \n",
    "(y_i'/w_i' - \\hat{y}_i'/\\hat{w}_i')^2 \\big)^{1/2} \\\\ = d_{alg}(\\text{x}_i', \\hat{\\text{x}_i}')/\\hat{w}_i'w_i'\n",
    "$$\n",
    "\n",
    "이러한 결과들을 봤을 때, algebraic distance와 geometric distance가 같지는 않지만 연관이 있으며,<br>\n",
    "그 연관 관계는 위 수식에서 알 수 있듯 결국 $\\hat{w}_i'= w_i'=1$이면 두 값은 같아진다는 것입니다."
   ]
  },
  {
   "attachments": {},
   "cell_type": "markdown",
   "id": "ea0da544",
   "metadata": {},
   "source": [
    "## 4.2.5 Geometric interpretation of reprojection error"
   ]
  },
  {
   "attachments": {},
   "cell_type": "markdown",
   "id": "0086ec0c",
   "metadata": {},
   "source": [
    "## 4.2.6 Sampson error"
   ]
  },
  {
   "attachments": {},
   "cell_type": "markdown",
   "id": "925d404a",
   "metadata": {},
   "source": [
    "## 4.2.7 Another geometric interpretation"
   ]
  },
  {
   "cell_type": "code",
   "execution_count": null,
   "id": "69f7ffbb",
   "metadata": {},
   "outputs": [],
   "source": []
  }
 ],
 "metadata": {
  "kernelspec": {
   "display_name": "Python 3",
   "language": "python",
   "name": "python3"
  },
  "language_info": {
   "codemirror_mode": {
    "name": "ipython",
    "version": 3
   },
   "file_extension": ".py",
   "mimetype": "text/x-python",
   "name": "python",
   "nbconvert_exporter": "python",
   "pygments_lexer": "ipython3",
   "version": "3.11.4"
  }
 },
 "nbformat": 4,
 "nbformat_minor": 5
}

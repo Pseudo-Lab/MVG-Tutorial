{
 "cells": [
  {
   "cell_type": "markdown",
   "id": "cd45ee48",
   "metadata": {},
   "source": [
    "# 4.2 Different cost functions"
   ]
  },
  {
   "cell_type": "markdown",
   "id": "3a84a292",
   "metadata": {},
   "source": [
    "## 4.2.1 Algebraic distance"
   ]
  },
  {
   "cell_type": "markdown",
   "id": "f372140a",
   "metadata": {},
   "source": [
    "## 4.2.2 Geometric distance"
   ]
  },
  {
   "cell_type": "markdown",
   "id": "6f5d3769",
   "metadata": {},
   "source": [
    "## 4.2.3 Reprojection error - both images"
   ]
  },
  {
   "cell_type": "markdown",
   "id": "df2b4f26",
   "metadata": {},
   "source": [
    "## 4.2.4 Comparison of geometric and algebraic distance"
   ]
  },
  {
   "cell_type": "markdown",
   "id": "ea0da544",
   "metadata": {},
   "source": [
    "## 4.2.5 Geometric interpretation of reprojection error"
   ]
  },
  {
   "cell_type": "markdown",
   "id": "0086ec0c",
   "metadata": {},
   "source": [
    "## 4.2.6 Sampson error"
   ]
  },
  {
   "cell_type": "markdown",
   "id": "925d404a",
   "metadata": {},
   "source": [
    "## 4.2.7 Another geometric interpretation"
   ]
  },
  {
   "cell_type": "code",
   "execution_count": null,
   "id": "69f7ffbb",
   "metadata": {},
   "outputs": [],
   "source": []
  }
 ],
 "metadata": {
  "kernelspec": {
   "display_name": "Python 3",
   "language": "python",
   "name": "python3"
  },
  "language_info": {
   "codemirror_mode": {
    "name": "ipython",
    "version": 3
   },
   "file_extension": ".py",
   "mimetype": "text/x-python",
   "name": "python",
   "nbconvert_exporter": "python",
   "pygments_lexer": "ipython3",
   "version": "3.8.10"
  }
 },
 "nbformat": 4,
 "nbformat_minor": 5
}

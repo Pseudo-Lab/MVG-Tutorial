{
 "cells": [
  {
   "cell_type": "markdown",
   "id": "86bc52fd",
   "metadata": {},
   "source": [
    "# 4.2 Different cost functions\n",
    "조건이 많은 경우 H를 결정하기 위해 최소화하는 cost function들에 대해 알아봅니다."
   ]
  },
  {
   "cell_type": "markdown",
   "id": "398340e2",
   "metadata": {},
   "source": [
    "## 4.2.1 Algebraic distance\n",
    "\n",
    "DLT 알고리즘은 norm $||\\text{A}h||$를 최소화합니다. 이 때, vector $\\epsilon = \\text{A}h$를 residual vector라고 합니다.\n",
    "\n",
    "이 residual vector의 원소들을 $\\epsilon_i$라 할 때, 이들을 partial error vector라 합니다.<br>\n",
    "또한, mapping $x_i \\leftrightarrow x_i'$와 homography H와 관련된 algebraic error vector 라고도 합니다.<br>\n",
    "따라서 이 vector의 norm을 algebraic distance라고 합니다. 수식은 아래와 같습니다.\n",
    "\n",
    "$$\n",
    "d_{alg}(x_i', \\text{H}x_i)^2 = ||\\epsilon_i||^2 = \\bigg\\|\\begin{bmatrix}\n",
    "0^\\intercal & -w_i'\\text{x}_i^\\intercal &y_i'\\text{x}_i^\\intercal \\\\\n",
    "-w_i'\\text{x}_i^\\intercal & 0^\\intercal & -x_i'\\text{x}_i^\\intercal\n",
    "\\end{bmatrix}h\\bigg\\|^2\n",
    "$$\n",
    "\n",
    "좀 더 간단하게 임의의 두 mapping vector 쌍 $\\text{x}_1, \\text{x}_2$에 대해서는 아래와 같이 표현할 수 있습니다.\n",
    "\n",
    "$$\n",
    "d_{alg}(\\text{x}_1, \\text{x}_2)^2 = a_1^2 + a_2^2, where \\ \\text{a}=(a_1,a_2,a_3)^\\intercal = \\text{x}_1 \\times \\text{x}_2\n",
    "$$\n",
    "\n",
    "일련의 대응이 주어진다면 $\\epsilon = \\text{A}h$는 완벽한 mapping에 대한 error vector가 되고 아래의 수식을 만족합니다.\n",
    "\n",
    "$$\n",
    "d_{alg}(x_i', \\text{H}x_i)^2 = \\sum_i \\|\\epsilon_i\\|^2 = \\|\\text{A}h\\| = \\|\\epsilon\\|^2\n",
    "$$\n",
    "\n",
    "이러한 algebraic distance의 장점은 선형이기 때문에 유일한 해가 있고, 계산 비용이 저렴합니다.<br>\n",
    "또한 이후 4.4에서 도입할 정규화를 이용하면 매우 좋은 결과를 얻을 수 있습니다.\n",
    "\n",
    "단점으로는 최소화 되는 양이 기하학적으로나 통계적으로 의미가 없다는 것입니다."
   ]
  },
  {
   "cell_type": "markdown",
   "id": "6bcd709e",
   "metadata": {},
   "source": [
    "## 4.2.2 Geometric distance\n",
    "Geometric distance는 이미지의 측정된 좌표와 추정된 좌표의 차이를 최소화 합니다.\n",
    "\n",
    "**표기법** \n",
    "\n",
    "$\\text{x}$ : 측정한 이미지 좌표<br>\n",
    "$\\hat{\\text{x}}$ : 점의 추정값<br>\n",
    "$\\bar{\\text{x}}$ : 점의 참값<br>\n",
    "\n",
    "**********************Symmetric transfer error**********************\n",
    "\n",
    "현실적으로 생각하면 두 이미지에서 모두 측정 오차가 발생할 수 있기 때문에, 두 이미지 모두에서 오차를 최소화 하는 것이 좋습니다.<br>\n",
    "이를 위해 이미지 $\\text{I}_1$의 좌표 벡터 $\\text{x}_i$와 이미지 $\\text{I}_2$의 좌표 벡터 $\\text{x}_i'$가 있다고 할 때, $\\text{I}_1 \\rightarrow \\text{I}_2$로의 사영 변환을 $\\text{H}$라 가정합니다. 이 때 오차 수식은 아래와 같이 정의할 수 있습니다.\n",
    "\n",
    "$$\n",
    "\\sum_i (d(\\text{x}_i, \\text{H}^{-1}\\text{x}_i')^2 + d(\\text{x}_i',\\text{Hx}_i)^2)\n",
    "$$\n",
    "\n",
    "여기서 왼쪽 항은 첫 번째 이미지에서의 error, 오른쪽 항은 두 번째 이미지에서의 error를 나타냅니다. 이것을 최소화 한 것이 추정한 homography $\\hat{\\text{H}}$이 됩니다."
   ]
  },
  {
   "cell_type": "markdown",
   "id": "28867451",
   "metadata": {},
   "source": [
    "## 4.2.3 Reprojection error - both images\n",
    "\n",
    "또 다른 방법으로는, 각 대응에 대해서 얼마나 고쳐야 참값과 일치하는지를 추정하는 것이 있습니다.<br>\n",
    "수식으로 나타내면 아래와 같이 표현됩니다.\n",
    "\n",
    "$$\n",
    "\\sum_i d(\\text{x}_i, \\hat{\\text{x}_i})^2 + d(\\text{x}_i', \\hat{\\text{x}_i'})^2\n",
    "$$\n",
    "\n",
    "![Untitled](./figures/ch_4_2_figure/ch_4_2_figure1.png)\n",
    "\n",
    "위 그림 4.2는 Symmetric transfer error와 Reprojection error를 비교하여 보여줍니다. \n",
    "\n",
    "Symmetric transfer error와 Reprojection error의 다른 점은<br>\n",
    "symmetric transfer error는 homography를 얻기 위해 $\\text{I}_1$에서 $\\text{I}_2$로 이동된 점을 가지고 비교해서 homography H의 정확도를 비교하는 것입니다.<br>\n",
    "하지만 Reprojection error는 H는 정확하다 가정하고, 점에서의 오류를 바로 잡는 것이라고 볼 수 있습니다."
   ]
  },
  {
   "cell_type": "markdown",
   "id": "e34254a0",
   "metadata": {},
   "source": [
    "## 4.2.4 Comparison of geometric and algebraic distance\n",
    "\n",
    "두 번째 이미지에서만 오차가 있는 경우를 생각해봅시다.<br>\n",
    "$\\text{x}_i=(x_i', y_i',w_i')^\\intercal$이고, $(\\hat{x}_i, \\hat{y}_i, \\hat{w}_i)^\\intercal = \\bar{\\text{x}}_i' = \\text{H}\\bar{\\text{x}}_i$라고 정의하겠습니다. 이와 같은 표기법에서 앞의 DLT 알고리즘의 (4.3) 수식의 좌변은 아래와 같이 됩니다.\n",
    "\n",
    "$$\n",
    "\\text{A}_ih = \\epsilon_i = \\begin{pmatrix}\n",
    "y_i'\\hat{w}_i' - w_i'\\hat{y}_i' \\\\\n",
    "w_i'\\hat{x}_i' - x_i'\\hat{w}_i'\n",
    "\\end{pmatrix}\n",
    "$$\n",
    "\n",
    "이는 점 mapping $\\text{x}_i \\leftrightarrow \\text{x}_i'$와 camera projection $\\text{H}$와 관련된 algebraic vector error 입니다.<br>\n",
    "따라서 아래와 같이 norm이 계산됩니다.\n",
    "\n",
    "$$\n",
    "d_{alg}(\\text{x}_i', \\hat{\\text{x}_i}')^2 = (y_i'\\hat{w}_i' - w_i'\\hat{y}_i')^2 + \n",
    "(w_i'\\hat{x}_i' - x_i'\\hat{w}_i')^2\n",
    "$$\n",
    "\n",
    "Geometric distance는 아래와 같이 계산되며, 정리할 수 있습니다.\n",
    "\n",
    "$$\n",
    "d_{alg}(\\text{x}_i', \\hat{\\text{x}_i}') = \\big((x_i'/w_i' - \\hat{x}_i'/\\hat{w}_i')^2 + \n",
    "(y_i'/w_i' - \\hat{y}_i'/\\hat{w}_i')^2 \\big)^{1/2} \\\\ = d_{alg}(\\text{x}_i', \\hat{\\text{x}_i}')/\\hat{w}_i'w_i'\n",
    "$$\n",
    "\n",
    "이러한 결과들을 봤을 때, algebraic distance와 geometric distance가 같지는 않지만 연관이 있으며,<br>\n",
    "그 연관 관계는 위 수식에서 알 수 있듯 결국 $\\hat{w}_i'= w_i'=1$이면 두 값은 같아진다는 것입니다."
   ]
  },
  {
   "cell_type": "markdown",
   "id": "b0441291",
   "metadata": {},
   "source": [
    "## 4.2.5 Geometric interpretation of reprojection error"
   ]
  },
  {
   "cell_type": "markdown",
   "id": "3a728fb5",
   "metadata": {},
   "source": [
    "두 평면 사이의 Homography를 추정하는 것은 4차원 공간 $\\mathbf{R}^{4}$ 의 점에 대한 surface fitting과 같은 문제로 생각할 수 있습니다.\n",
    "#### $\\mathbf{R}^{4}$ 공간에서의 surface fitting으로 바꿔 생각하기\n",
    "1. 이미지의 점 $\\mathbf{x}$, $\\mathbf{x}^`$ 한 쌍은 **비동차**좌표로 연결하여, 측정 공간 $\\mathbf{R}^{4}$의 한 점 $\\mathbf{X}$로 표현되는 한 점을 정의할 수 있습니다.\n",
    "    - ($\\mathbf{x}_i$, $\\mathbf{y}_i'$) $ \\rightarrow $ ($x_i$, $y_i$, $x_i'$, $y_i'$)  $\\in$ $\\mathbf{R}^{4}$\n",
    "<br><br>\n",
    "2. $\\mathbf{x}'$ $\\times$ (H$\\mathbf{x}$) = $\\mathbf{0}$을 만족하는 이미지 쌍 $\\mathbf{x}$ $\\leftrightarrow$ $\\mathbf{x}'$은 $\\mathbf{R}^{4}$에서 hypersurface 두 개의 intersection인 대수 다양체 $V_H$를 형성합니다.\n",
    "    - (4.1)의 각 행은 $x_i$, $y_i$, $x_i'$, $y_i'$에 대한 이차 다항식이므로, 곡면은 $\\mathbf{R}^{4}$에서 이차 곡면입니다.\n",
    "    - (4.1)의 두 독립 방정식이 위와 같은 이차 곡면 두 개를 정의합니다.\n",
    "    \n",
    "$\\mathbf{R}^{4}$의 한 점 $\\mathbf{X}_i$ = $($x_i$, $y_i$, $x_i'$, $y_i'$)^T$가 주어지면,Homography를 추정하는 과정은 점 $\\mathbf{X}_i$를 지나거나, 가까이 지나가는 다양체 $V_H$를 결정하는 문제가 됩니다.<br>\n",
    "일반적으로는 다양체를 정확하게 결정하는 것은 불가능하며, 이런 경우에 각각의 점 $\\mathbf{X}_i$에 대해 $\\hat{\\mathbf{X}}$ = $(\\hat{x_i}, \\hat{y_i}, \\hat{x_i}', \\hat{y_i}`)^T$는 다양체 $V_H$ 상에서 $\\mathbf{X}_i$와 가장 가까운 점입니다. 이를 수식으로 정리하면 다음을 얻을 수 있습니다."
   ]
  },
  {
   "cell_type": "markdown",
   "id": "6788f55f",
   "metadata": {},
   "source": [
    "<center>\n",
    "$\\begin{Vmatrix}\\mathbf{X}_i - \\hat{\\mathbf{X}_i}\\end{Vmatrix}^2$ $=$ $(x_i - \\hat{x}_i)^2$ $+$ $(y_i - \\hat{y}_i)^2$ $+$ $(x_i' - \\hat{x}_i')^2$ $+$ $(y_i' - \\hat{y}_i')^2$\n",
    "    <br> &emsp;&emsp;&emsp;&emsp;&emsp;&emsp; $=$ $d(\\mathbf{x}_i,\\hat{\\mathbf{x}_i})^2 $ $+ d($ $\\mathbf{x}_i',$ $\\hat{\\mathbf{x}}_i')$\n",
    "</center>\n",
    "   \n",
    "따라서 $\\mathbf{R}^{4}$의 기하 거리는 양쪽 이미지에서 측정한 재사영 오차와 동일하다는 것을 알 수 있습니다."
   ]
  },
  {
   "cell_type": "markdown",
   "id": "a9b4bfc6",
   "metadata": {},
   "source": [
    "#### 원뿔에서의 유추\n",
    "시각화가 더 쉬운 유사한 추정 문제로 2차원 점에 대한 원뿔 맞추기 문제를 소개합니다.\n",
    "이 문제는 평면 상의 n > 5개의 점 $(\\mathbf{x}_i$, $\\mathbf{y}_i)T$의 집합에 기하 거리를 최소화하는 오차를 기반으로 하는 원뿔 맞추기 문제입니다. 점들은 대응 $\\mathbf{x}_i$ $\\leftrightarrow$ $\\mathbf{y}_i$으로 생각할 수 있습니다.\n"
   ]
  },
  {
   "cell_type": "markdown",
   "id": "99d0e77f",
   "metadata": {},
   "source": [
    "<img src=\"./figures/ch_4_2_figure/ch4_2_5_figure1.PNG\" style=\"width: 600px;\"/>\n"
   ]
  },
  {
   "cell_type": "markdown",
   "id": "5ab79c66",
   "metadata": {},
   "source": [
    "## 4.2.6 Sampson error"
   ]
  },
  {
   "cell_type": "markdown",
   "id": "8e51e443",
   "metadata": {},
   "source": [
    "샘프슨 오차는 복잡성 측면에서 대수와 기하 비용함수의 중간 단계인 비용함수입니다. 4.2.5절에서 설명했듯이 기하 오차 $\\begin{Vmatrix}\\mathbf{X} - \\hat{\\mathbf{X}}\\end{Vmatrix}^2$를 최소화하는 벡터 $\\mathbf{\\hat{X}}$는 다양체 $V_H$에서 측정값 $\\mathbf{X}$와 가장 가까운 점입니다. 하지만 $V_H$가 비선형이어서 이 점은 반복법 외의 방법으로 직접 추정이 불가능합니다. 샘프슨 오차함수의 아이디어는 비용함수를 $\\mathbf{\\hat{X}}$ 근방에서 일차근사 하는 것입니다.\n",
    "<br><br>\n",
    "단응사상 H가 주어졌을 때, $V_H$상의 임의이 점 $\\mathbf{X} = (x, y, x', y')^\\top$는 A$\\mathbf{h} = 0$을 만족합니다. 테일러 전개를 이용하여 비용함수를 일차까지 근사하면서 $\\mathbf{X}$의 의존성을 강조하기 위해 $\\mathbf{X}$에 관한 식으로 표현하면 다음과 같습니다.\n",
    "\n",
    "<img src=\"./figures/ch_4_2_figure/ch4_2_5_figure2.PNG\" style=\"width: 300px;\"/><br>\n",
    "\n",
    "$\\delta_\\mathbf{x}$ = $\\mathbf{X}$ - $\\hat{\\mathbf{X}}$로 표기하고 $\\hat{\\mathbf{X}}$가 $V_H$에 놓이기를 원하므로 $C_H(\\hat{\\mathbf{X}}) = 0$의 조건을 적용하고 J$\\delta_\\mathbf{x}$ = $-\\epsilon$로 표기하면, 이 방정식을 만족하는 가장 작은 $\\delta_\\mathbf{x}$를 찾는 것으로 최적화 문제를 정리할 수 니습니다. 이 때 J는 편미분 행렬이고, $\\epsilon$는 $C_H(\\mathbf{X}$)입니다.\n",
    "<br><br>\n",
    "\n",
    "즉, 구속조건 $J\\delta_\\mathbf{X} = -\\epsilon$을 만족하며 $\\begin{Vmatrix}\\delta_\\mathbf{X}\\end{Vmatrix}$를 최소화하는 벡터 $\\delta_\\mathbf{X}$를 찾는 최적화 문제인데, 일반적으로 이러한 유형의 문제를 해결하는 방법은 라그랑주 승수법을 적용하는 것입니다. 라그랑주 승수의 벡터 $\\lambda$를 도입하고, 편의를 위해 $\\delta^\\top$의 계수에 인수 2를 곱한 뒤, $\\delta_\\mathbf{X}$에 대해 미분하고 이를 영이라 두면 다음을 얻습니다.\n",
    "<img src=\"./figures/ch_4_2_figure/ch4_2_6_figure1.PNG\" style=\"width: 200px;\"/><br>"
   ]
  },
  {
   "cell_type": "markdown",
   "id": "93767972",
   "metadata": {},
   "source": [
    "위 식으로부터 $\\delta_\\mathbf{X} = J^\\top\\lambda$를 얻습니다. $\\lambda$에 대한 미분에서 원래 제약 조건인 $J\\delta_\\mathbf{X}$ + $\\epsilon = \\mathbf{0}$을 얻습니다. $\\delta_\\mathbf{X}$를 대입하고, 이것을 $\\lambda$에 대해서 풀면, 다음과 같이 샘프슨 오차를 구할 수 있습니다.\n",
    "<img src=\"./figures/ch_4_2_figure/ch4_2_6_figure2.PNG\" style=\"width: 300px;\"/><br>\n",
    "\n",
    "#### 선형 비용함수\n",
    "대수 오차 벡터 $C_H(\\mathbf{X}) = A(\\mathbf{X})h$는 $\\mathbf{X}$의 원소에 대해 다중 선형인 것이 전형적입니다. 그러나 $A(\\mathbf{X})h$가 선형인 경우에는 그 자체로 중요합니다. 이 경우에는 샘프슨 오차와 기하 오차가 동일합니다. <br><br>\n",
    "그리고 선형방정식의 집합 $C_H(\\mathbf{X}) = \\mathbf{0}$으로 정의되는 다양체 $V_H$는 $H$에 의존하는 초평면ㄴ입니다. 그로므로 H를 구하는 문제는 초평면 맞추기가 됩니다. "
   ]
  },
  {
   "cell_type": "markdown",
   "id": "582b22da",
   "metadata": {},
   "source": [
    "## 4.2.7 Another geometric interpretation"
   ]
  },
  {
   "cell_type": "markdown",
   "id": "867531f1",
   "metadata": {},
   "source": [
    "4.2.5절에서 점 $x_i$를 $x_i'$로 변환하는 단응사상을 찾는 것은 $\\mathbf{R}^4$에서 주어진 점을 맞추는 다양체를 구하는 문제와 같다는 것을 보였습니다. \n",
    "이제 모든 측정 집합이 측정 공간 $\\mathbf{R}^N$의 단일 점으로 표현되는 다른 해석을 생각합니다.고려하려는 추정 문제는 일반적인 프레임워크로 설명할 수 있습니다. 추상화하면 추정 문제는 두 개의 성분을 가집니다.\n",
    "<br>\n",
    "- 측정 벡터 X로 구성된 측정 공간 $\\mathbf{R}^N$\n",
    "- 추상적으로 $\\mathbf{R}^N$의 점으로 구성된 부분 집합 S로 생각하는 모델. 측정 벡터 X가 부분 집합에 속한다면 모델을 만족한다고 표현합니다. 일반적으로 모델을 만족하는 부분 집합은 $\\mathbf{R}^N$의 다양체가 됩니다.\n",
    "<br>\n",
    "\n",
    "이제 $\\mathbf{R}^N$의 관측 벡터 $\\mathbf{X}$가 주어지면 추정 문제는 모델을 만족하며 $\\mathbf{X}$와 가장 가까운 벡터 $\\hat{\\mathbf{X}}$를 찾는 것입니다.\n",
    "\n",
    "#### 두 이미지에서의 오차\n",
    "\n",
    "i = 1,...,n인 {$x_i \\leftrightarrow x_i'$}는 측정한 대응점들의 집합입니다. 여기에서는 모두 4n개의 측정, 즉 n개의 점에 대한 두 개의 이미지 각각에 좌표 두 개가 있습니다. 그러므로 일치하는 점의 집합은 N = 4n인 $\\mathbf{R}^N$의 점으로 나타납니다. 두 이미지에서 일치하는 모든 점들의 좌표로 구성한 벡터를 $\\mathbf{X}$로 표시합니다. <br>\n",
    "\n",
    "물론 모든 점의 쌍 {$x_i \\leftrightarrow x_i'$}의 집합이 단응사상 H를 통해 연결되는 것은 아닙니다. 모든 i에 대해 $x_i'$ = H$x_i$를 만족하는 사영변환이 존재하는 점 대응 {$x_i \\leftrightarrow x_i'$}의 집합은 모델을 만족하는 $\\mathbf{R}^N$의 부분 집합을 구성합니다. 일반적으로 이러한 점들의 집합은 $\\mathbf{R}^N$에서 적절한 차원의 다양체를 형성합니다. 다양체의 차원은 다양체를 매개화하기 위해 필요한 변수의 최소 숫자와 같습니다. <br>\n",
    "\n",
    "첫 번째 이미지에서 n개의 점 $\\hat{x_i}$를 임의로 선택합니다. 그리고 단응 사상 H 또한 임의로 선택합니다. 선택이 끝나면 두 개의 이미지에서 점 $\\hat{x_i'}$를 $\\hat{x_i'}$ = $H\\hat{x_i}$를 이용해 결정합니다. 따라서 가능한 점의 선택은 2n + 8개의 매개변수 집합으로 결정됩니다. 점의 2n개의 좌표 $\\hat{x_i'}$와 변환 8개의 독립 매개변수를 더한 것입니다. 따라서 다양체는 2n + 8차원이며, 따라서 여차원 2n - 8을 가집니다. <br>\n",
    "\n",
    "측정된 점의 대응 집합 {$x_i \\leftrightarrow x_i'$}에서, 대응하는 $\\mathbf{R}^N$의 점 $\\mathbf{X}$와 추정하는 S에 있는 점 $\\hat{\\mathbf{X}}$ in $\\mathbf{R}^N$은 다음을 만족합니다.\n",
    "\n",
    "<img src=\"./figures/ch_4_2_figure/ch4_2_7_figure1.PNG\" style=\"width: 300px;\"/><br>\n",
    "\n",
    "\n",
    "#### 한 이미지만의 오차\n",
    "\n",
    "하나의 이미지에만 오차가 있는 경우에는 {$\\bar{x_i} \\leftrightarrow x_i'$}을 얻습니다. 점 $\\bar{x_i}$는 정확하다고 가정하고, $x_i'$의 비동차 좌표가 측정 벡터 $\\mathbf{X}$를 구성합니다. 이 경우의 측정 공간의 차원은 N = 2n입니다. 벡터 $\\hat{\\mathbf{X}}$는 정확한 점들의 변환의 비동차 좌표로 구성됩니다. 모델을 만족하는 측정 벡터 집합은 집합 $\\hat{\\mathbf{X}}$이고, H는 모든 단응사상 행렬에서 변화합니다. 또 다시 이 집합은 다양체인데, 단응 사상 행렬 H의 총 자유도가 8이므로, 다양체의 차원은 8이 됩니다. 앞의 경우와 같이 여차원은 2n - 8입니다. 다음이 만족하는것을 알 수 있습니다.\n",
    "\n",
    "<img src=\"./figures/ch_4_2_figure/ch4_2_7_figure2.PNG\" style=\"width: 300px;\"/><br>\n"
   ]
  }
 ],
 "metadata": {
  "kernelspec": {
   "display_name": "Python 3",
   "language": "python",
   "name": "python3"
  },
  "language_info": {
   "codemirror_mode": {
    "name": "ipython",
    "version": 3
   },
   "file_extension": ".py",
   "mimetype": "text/x-python",
   "name": "python",
   "nbconvert_exporter": "python",
   "pygments_lexer": "ipython3",
   "version": "3.8.10"
  }
 },
 "nbformat": 4,
 "nbformat_minor": 5
}

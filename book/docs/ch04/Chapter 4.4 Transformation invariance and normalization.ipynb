{
 "cells": [
  {
   "cell_type": "markdown",
   "metadata": {},
   "source": [
    "# 4.4 Transformation invariance and normalization\n",
    "4.1장에 나온 DLT 알고리즘의 성능과 특성에 대해서 다룹니다. 이미지 좌표 변환에 대한 DLT 알고리즘 결과의 불변성, DLT 알고리즘의 변성, 기하 오류의 불변성, 변환의 정규화 이렇게 4가지의 내용을 다룹니다."
   ]
  },
  {
   "cell_type": "markdown",
   "metadata": {},
   "source": [
    "## 4.4.1 Invariance to image coordinate transformations\n",
    "\n",
    "invariance : 불변성, 입력이 바뀌어도 출력은 그대로 유지되어 바뀌지 않는다는 뜻\n",
    "\n",
    "이미지에서의 원점 좌표는 왼쪽 상단 또는 중심 등 여러 가지 경우를 가질 수 있습니다. 또한, 이미지 좌표를 표현하는 거리단위가 바뀌는 경우(이미지 좌표를 닮음변환, 아핀변환, 사영변환을 통해 변경한 경우)에 따라 좌표 변환값이 변하는지 살펴볼 수 있습니다.\n",
    "\n",
    "- 이미지 좌표축의 기준을 삼는 방법에 따라\n",
    "- 이미지 좌표축의 단위(unit)에 따라\n",
    "- 아핀 변환 같은 변환 종류에 따라 알고리즘의 결과가 달라지는지\n",
    "\n",
    "$$\n",
    "\\tilde{x} = Tx\n",
    "$$\n",
    "\n",
    "이미지의 한 좌표 x가 T행렬(3X3 행렬)에 의해 $\\tilde{x}$으로 변환되었을 때, 다른 이미지 위의 다른 점 $x^{\\prime}$은 $T^{\\prime}$행렬(3X3행렬)에 의해 ${\\tilde{x^{\\prime}}}$으로 옮겨집니다.\n",
    "$$\n",
    "x^{\\prime} = Hx\n",
    "$$\n",
    " 으로 표현할 수 있습니다.\n",
    "\n",
    "위 식들을 정리해보면 다음식으로 나타낼 수 있습니다.\n",
    "$$\n",
    "\\tilde{x}^{\\prime} = T^{\\prime}HT^{-1}\\tilde{x}\n",
    "$$\n",
    "\n",
    "이를 통해, $\\tilde{H}$는 $\\tilde{x}$ 와 $\\tilde{x}^{\\prime}$ 사이의 변환행렬임을 알 수 있습니다.\n",
    "\n",
    "$$\n",
    "\\tilde{H} = T^{\\prime}HT^{-1}\n",
    "$$\n",
    "\n",
    "\n",
    "다른 방법으로 transformation matrix를 찾는 방법은 다음과 같습니다.\n",
    "1. ${\\tilde{x}_i = Tx_i}$식과 ${\\tilde{x}^{\\prime}_i = T^{\\prime}x^{\\prime}_i}$식을 이용해 이미지를 변환\n",
    "2. ${\\tilde{x}_i}$와 ${\\tilde{x}^{\\prime}_i}$의 관계에서 변환 행렬 ${\\tilde{H}}$를 구합니다.\n",
    "3. ${H = T^{{\\prime}{-1}}\\tilde{H}T}$로 두어 ${x_i}$점을 ${x^{\\prime}_i}$로 변환할 수 있습니다.\n",
    "\n",
    "위 계산은 이미지에서 different scale, orientation or coordinate origin을 선택해도 알고리즘의 결과에는 변화가 없습니다."
   ]
  },
  {
   "cell_type": "markdown",
   "metadata": {},
   "source": [
    "## 4.4.2 Non-invariance of the DLT algorithm\n",
    "\n",
    "앞선 식에서, ${x_i}$점과 ${x^{\\prime}_i}$점의 대응을 통해 행렬 H를 구했습니다. ${\\tilde{H} = T^{\\prime}HT^{-1}}$ 식에서는 행렬 ${\\tilde{H}}$를 정의할 수 있습니다.\n",
    "\n",
    "여기서, ${x_i}$점과 ${x^{\\prime}_i}$점에 적용한 DLT 알고리즘은 변환 행렬 ${\\tilde{H}}$를 만들어내는지 알아보겠습니다.\n",
    "${T^{\\prime}}$은 닮음변환 행렬, T는 projective 변환 행렬, H는 2D homography 행렬입니다.\n",
    "즉, $T = \\begin{bmatrix} \\mathsf{sR} & \\mathbf{t} \\\\ \\mathbf{0}^\\mathsf{T} & 1 \\end{bmatrix}$ 이고, (R은 회전 행렬, t는 이동 변환, s는 scaling factor) $\\lVert \\tilde{A}\\tilde{h} \\rVert = s \\lVert {Ah} \\rVert$를 얻습니다. 대수 오차를 최소화하는 행렬 H와 ${\\tilde{H}}$ 사이에는 일대일 대응이 아니므로, 좌표 또는 원점의 좌표를 바꾸면 DLT 알고리즘의 결과도 바뀌게 됩니다. 만약 최소화하려는 값 $\\lVert Ah \\rVert$의 구속 조건이 변환에 불변하면, H와 ${\\tilde{H}}$가 연관성을 갖게 됩니다."
   ]
  },
  {
   "cell_type": "markdown",
   "metadata": {},
   "source": [
    "## 4.4.3 Invariance of geometric error\n",
    "위에서 살펴본 것처럼, 기하 오류를 최소화하는 행렬 H를 찾는 것은 닮음 변환에서는 불변합니다. 앞에서와 같이 x에서 ${x^{\\prime\n",
    "}}$으로 변환시키는 행렬 H가 있다고 가정합니다. 또한, ${\\tilde{x} = Tx}$이고 ${\\tilde{x}^{\\prime}} = T^{\\prime}x^{\\prime}$의 관계와 ${\\tilde{H} = T^{\\prime}HT^{-1}}$ 식을 이용해 ${\\tilde{H}}$를 정의할 수 있습니다. 이를 이용해 ${\\tilde{x}^{\\prime}}$과 ${{\\tilde{H}}{\\tilde{x}}}$에 대한 기하 오류에 대한 식을 나타내보면 다음과 같습니다.\n",
    "\n",
    "$$\n",
    "{d(\\tilde{x}^{\\prime}, \\tilde{H}\\tilde{x})} = d(T^{\\prime}x^{\\prime}, T^{\\prime}HT^{-1}TX) = d(T^{\\prime}x^{\\prime}, T^{\\prime}Hx) = d(x^{\\prime}, Hx)\n",
    "$$\n",
    "\n",
    "유클리드 거리가 ${T^{\\prime}}$의 행렬 변환에 의해 바뀌지 않는다는 것을 이용하면, 기하 오차를 최소화하는 것은 닮음 변환에서는 불변임을 알 수 있습니다."
   ]
  },
  {
   "cell_type": "markdown",
   "metadata": {},
   "source": [
    "## 4.4.4 Normalizing transformations\n",
    "\n",
    "4.4.2절에서, DLT 알고리즘의 결과는 점을 표현하는 좌표계에 따라 달라짐을 알 수 있습니다. 그렇기 때문에, 사용하는 좌표계에 따라서 값이 달라지고, 더 좋은 알고리즘의 결과를 얻는 좌표계도 존재합니다. 그것이 바로 정규화이고, 정규화는 DLT 알고리즘을 사용하기 전에 적용해야 합니다. 또한 데이터 정규화 과정을 거치게 되면, 좌표의 척도와 원점의 임의 선택에 대해 불변이 됩니다. 정규화과정이 측정 데이터에 대한 표준 좌표계를 효과적으로 선택하므로 좌표 변경의 효과를 무효화하기 때문입니다.\n",
    "\n",
    "### 1. Isotropic scaling\n",
    "등방성 배율 조정, 정규화의 첫 단계로 점 집합의 모양 중심이 원점으로 가도록 각 이미지의 좌표를 이동시킵니다. x, y, w의 평균값이 같은 형식이 되도록 좌표 배율을 조정하는데, 각 좌표 방향에 대해 다른 배율을 선택하는 대신, x, y 점이 동일하게 배율 조정되도록 등방성 배율 계수를 선택합니다. 원점과 점 x의 평균 거리가 ${\\sqrt{2}}$가 되도록, 평균점은 ${(1, 1, 1)^{T}}$가 되도록 배율을 조정합니다.\n",
    "즉 정리하면 다음의 3가지 과정을 거칩니다.\n",
    "1. 모양 중심이 원점이 되도록 점 이동\n",
    "2. 원점으로부터 평균 거리가 ${\\sqrt{2}}$가 되도록 배율을 조정\n",
    "3. 두 이미지 각각에 독립적으로 적용\n",
    "\n",
    "### 2. 정규화가 필수적인 이유\n",
    "알고리즘 4.1은 SVD를 사용해 ${A = UDV^{T}}$로 분해해 ${Ah = 0}$의 해를 구하는 방법입니다. 이 방정식은 엄밀한 해(exact solution)을 갖지 않지만, h는 ${\\lVert Ah \\rVert}$를 최소화하는 해가 됩니다. 이는 Frobenius norm에서 A에 가장 가까운 rank 8의 행렬 ${\\hat{A}}$를 구하고, ${\\hat{A}h = 0}$에서의 h를 구하는 것과 같습니다. 행렬 ${\\hat{A} = U\\hat{D}VT}$로 주어지며, ${\\hat{D}}$는 가장 작은 singular value를 0으로 둔 D행렬 입니다.\n",
    "Frobenius norm이란 모든 원소의 제곱의 합의 제곱근을 뜻하는데, A행렬과의 차이를 살펴본 식은 다음과 같습니다.\n",
    "$$\n",
    "{\\lVert A - \\hat{A} \\rVert}_F = {\\lVert UDV^T - U\\hat{D}V^T \\rVert}_F = {\\lVert D - \\hat{D} \\rVert}_F\n",
    "$$\n",
    "정규화를 하지 않았을 때, 일반적으로 이미지의 좌표가 ${(x, y, w)^T}$일 때, x, y값이 w에 비해 큰 값을 가집니다. 따라서 행렬 A를 ${\\hat{A}}$로 바꾸게 되면, 일부 원소의 값을 증가하고, 일부 원소의 값은 감소합니다. 이 부분에서, ${ww^{\\prime}}$를 늘리는 것은 이미지에서 매우 큰 변화이고, ${xx^{\\prime}}$를 늘리는 것은 이미지에서 매우 작은 변화입니다. 따라서 A의 모든 항목이 비슷한 크기를 가져야 하고, 정규화과정을 거치는 것입니다.\n",
    "\n",
    "![Untitled](./figures/ch_4_4_figure/ch_4_4_figure1.jpg)\n",
    "\n",
    "위 사진에서 왼쪽 그림 a는 정규화를 거치지 않은 결과이고 오른쪽 그림 b는 정규화를 거친 결과입니다. 점들은 가우스 노이즈를 추가해 계산을 진행했는데, 노이즈가 추가되었을 때 정규화과정을 거치지 않으면 점들이 분산되어 변환된 것을 볼 수 있습니다.\n",
    "\n",
    "### 3. Algorithm [4.2] The normalized DLT for 2D homographies.\n",
    "${n\\geq4}$개의 2차원 점에서 2차원 점 대응 ${\\{x_i, x_i^{\\prime}\\}}$가 주어졌을 때, ${x^{\\prime}_i = Hx_i}$를 만족하는 2D homography 행렬 H를 구하는 알고리즘은 다음과 같은 순서로 진행됩니다.\n",
    "1. x의 정규화\n",
    "2. ${x^{\\prime}}$의 정규화\n",
    "3. 4.1 알고리즘을 적용해 ${\\tilde{H}}$를 계산\n",
    "4. 정규화를 제거하여 H를 계산\n",
    "${H = T^{\\prime{-1}}\\tilde{H}T}$를 통해 H를 구할 수 있습니다."
   ]
  }
 ],
 "metadata": {
  "language_info": {
   "name": "python"
  },
  "orig_nbformat": 4
 },
 "nbformat": 4,
 "nbformat_minor": 2
}

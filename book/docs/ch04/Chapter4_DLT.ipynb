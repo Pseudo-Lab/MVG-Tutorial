{
 "cells": [
  {
   "cell_type": "markdown",
   "metadata": {},
   "source": [
    "이번 절에서는 DLT 알고리즘에 대해 다룹니다.\n",
    "서로 같은 공간을 담은(여러 각도에서 찍은) 두 이미지의 대응쌍$x_i - x_i^`$이 주어졌을 때, 변환행렬(3*3 행렬) H를 구하는 것이 목표입니다.\n",
    "\n",
    "$x, x^`$가 동차좌표계를 사용하기 때문에, $x_i^`=Hx_i$가 아닌, $x_i^` × Hx_i = 0$을 만족해야 합니다."
   ]
  },
  {
   "cell_type": "markdown",
   "metadata": {},
   "source": [
    "행렬 H의 j번째 행을 $h^jT$라 하면 $Hx_i$를\n",
    "\n",
    "$Hx_i = \\begin{pmatrix}h^1Tx_i\\\\h^2Tx_i\\\\h^3Tx_i \\end{pmatrix}$\n",
    "\n",
    "로 표현할 수 있습니다."
   ]
  },
  {
   "cell_type": "markdown",
   "metadata": {},
   "source": [
    "$x_i^`=(x_i^`,y_i^`,z_i^`)^T$ 라 표현하면, 위 수식을 다음과 같이 표현할 수 있습니다."
   ]
  },
  {
   "cell_type": "markdown",
   "metadata": {},
   "source": [
    "$x_i^`×Hx_i = \\begin{pmatrix}y_i^`h^{3T}x_i - w_i^`h^{2T}x_i \\\\w_i^`h^{1T}x_i - x_i^`h^{3T}x_i\\\\x_i^`h^{2T}x_i - y_i^`h^{1T}x_i  \\end{pmatrix}$ "
   ]
  },
  {
   "cell_type": "markdown",
   "metadata": {},
   "source": [
    "위 수식을 행렬 형태로 포현하면"
   ]
  },
  {
   "cell_type": "markdown",
   "metadata": {},
   "source": [
    "$\\begin{bmatrix} 0^T & -w_i^`x_i^T & y_i^`x_i^T \\\\ w_i^`x_i^T & 0 & -x_i^`x_i^T \\\\  -y_i^`x_i^T & x_i^`x_i^T & 0 \\end{bmatrix}\n",
    "\\begin{pmatrix} h_1 \\\\ h_2 \\\\ h_3 \\end{pmatrix} = 0 $"
   ]
  },
  {
   "cell_type": "markdown",
   "metadata": {},
   "source": [
    "여기서 $H = \\begin{bmatrix} h_1 & h_2 & h_3 \\\\ h_4 & h_5 & h_6 \\\\ h_7 & h_8 & h_9 \\end{bmatrix}$ 라고 하면"
   ]
  },
  {
   "cell_type": "markdown",
   "metadata": {},
   "source": [
    "$h = \\begin{pmatrix} h_1 \\\\ h_2 \\\\ h_3 \\\\ h_4 \\\\ h_5 \\\\ h_6 \\\\ h_7 \\\\ h_8 \\\\h_9 \\end{pmatrix}$ 입니다.\n",
    "\n",
    "행렬 H의 원소를 벡터 형태로 만든 모양이죠."
   ]
  },
  {
   "cell_type": "markdown",
   "metadata": {},
   "source": [
    "수식을 다시 정리하면,\n",
    "\n",
    "$\\begin{bmatrix} 0^T & -w_i^`x_i^T & y_i^`x_i^T \\\\ w_i^`x_i^T & 0 & -x_i^`x_i^T \\\\  -y_i^`x_i^T & x_i^`x_i^T & 0 \\end{bmatrix}\n",
    "\\begin{pmatrix} h_1 \\\\ h_2 \\\\ h_3 \\\\ h_4 \\\\ h_5 \\\\ h_6 \\\\ h_7 \\\\ h_8 \\\\ h_9 \\end{pmatrix} = 0 $\n",
    "\n",
    "이 됩니다. 여기서 $x, x^`$은 관측된 값이기 때문에 상수이고, $h_1, h_2, ..., h_9$를 구해야 하죠.\n",
    "\n",
    "그런데 행렬\n",
    "\n",
    "$\\begin{bmatrix} 0^T & -w_i^`x_i^T & y_i^`x_i^T \\\\ w_i^`x_i^T & 0 & -x_i^`x_i^T \\\\  -y_i^`x_i^T & x_i^`x_i^T & 0 \\end{bmatrix}$\n",
    "\n",
    "의 1,2,3열이 선형종속이라, 3열을 제거해도 무방합니다."
   ]
  },
  {
   "cell_type": "markdown",
   "metadata": {},
   "source": [
    "다시 수식을 정리하면,\n",
    "\n",
    "$\\begin{bmatrix} 0^T & -w_i^`x_i^T & y_i^`x_i^T \\\\ w_i^`x_i^T & 0 & -x_i^`x_i^T  \\end{bmatrix}\n",
    "\\begin{pmatrix} h_1 \\\\ h_2 \\\\ h_3 \\\\ h_4 \\\\ h_5 \\\\ h_6 \\\\ h_7 \\\\ h_8 \\\\ h_9 \\end{pmatrix} = 0 $\n",
    "\n",
    "이 되죠.\n",
    "\n",
    "대응쌍 $x, x^`$ 하나마다 2 x 9 행렬을 얻고, 대응쌍이 n개면 2n x 9 행렬을 얻습니다.\n",
    "\n",
    "여기서, 사용하는 좌표계가 동차좌표계이기 때문에, h의 원소 중 하나를 임의로 지정해도 됩니다. (ex: $h_9$ = 1)\n",
    "\n",
    "그러면, h를 결정하기 위해 필요한 수식이 8개, 따라서 필요한 대응쌍의 수는 4개가 됩니다.\n"
   ]
  }
 ],
 "metadata": {
  "language_info": {
   "name": "python"
  },
  "orig_nbformat": 4
 },
 "nbformat": 4,
 "nbformat_minor": 2
}

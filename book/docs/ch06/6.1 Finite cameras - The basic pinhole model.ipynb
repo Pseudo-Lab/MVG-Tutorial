{
 "cells": [
  {
   "cell_type": "markdown",
   "metadata": {},
   "source": [
    "# 6.1 Finite cameras - The basic pinhole model"
   ]
  },
  {
   "cell_type": "markdown",
   "metadata": {},
   "source": [
    "## 6.1 Finite cameras"
   ]
  },
  {
   "cell_type": "markdown",
   "metadata": {},
   "source": [
    "### The basic pinhole model.\n",
    "\n",
    "투영 중심점(the central projection of points)이 유클리드 좌표 공간에 있을 때, 평면 Z는 f입니다. 여기서 f는 focal plane 또는 image plane이라고 합니다.\n",
    "\n",
    "\n",
    "핀홀 카메라 모델에서, 좌표 $$X = (X, Y, Z)^T$$는 image plane의 한 점으로 매핑됩니다.\n",
    "\n",
    "**![fig_6_1](figures/ch6_1_figure/ch6_fig_6_1.jpg)**\n",
    "\n",
    "그림 6.1에서 보면, 3D 공간 상의 한점 X는 카메라 중심점과 연결한 직선이 image plane이 만나는 점으로 투영됩니다.\n",
    "$$\n",
    "(X, Y, Z)^T => (fX/Z, fY/Z)^T\n",
    "$$\n",
    "투영의 중심은 카메라 중심(camera center)이라고 합니다. 카메라 중심점에서 image plane에 수직인 직선을 주축(principle axis)이라고 하는데, 주축이 image plane과 만나는 점을 주점(principal plane)이라고 합니다."
   ]
  },
  {
   "cell_type": "markdown",
   "metadata": {},
   "source": []
  },
  {
   "cell_type": "markdown",
   "metadata": {},
   "source": [
    "### Central projection using homogeneous coordinates.\n",
    "\n",
    "세상과 이미지의 점들이 homogeneous vector로 표현된다면, central projection은 아주 간단하게 동차 좌표계(homogeneous coordinate)에서 선형 매핑으로 표현됩니다.\n",
    "$$ \n",
    "\\begin{pmatrix} X \\\\ Y \\\\ Z \\\\ 1 \\\\ \\end{pmatrix}\n",
    "=> \\begin{pmatrix} fX \\\\ fY \\\\ Z \\end{pmatrix}\n",
    "= \\begin{bmatrix} f & & & 0 \\\\ & f & & 0 \\\\ & & 1 & 0 \\end{bmatrix} \\begin{pmatrix} X \\\\ Y \\\\ Z \\\\ 1 \\end{pmatrix}\n",
    "$$\n",
    "\n",
    "X는 world point(4X1 행렬), P는 camera projection matrix(3X4 행렬)이고, x는 image plane위의 점(3X1행렬)입니다. 즉 식으로 나타내보면 다음과 같습니다.\n",
    "\n",
    "$$\n",
    "x = PX\n",
    "$$"
   ]
  },
  {
   "cell_type": "markdown",
   "metadata": {},
   "source": [
    "### Principal point offset.\n",
    "앞서 점을 표현할 때 다음과 같은 식으로 나타냈습니다.\n",
    "$$\n",
    "(X, Y, Z)^T => (fX/Z, fY/Z)^T\n",
    "$$\n",
    "그러나, 실제로 이미지 중심점과 카메라 중심점이 일치하지 않기 때문에, 주점(principal point)에 대한 고려가 필요합니다. 식을 다시 나타내보면 다음과 같습니다\n",
    "$$ \n",
    "\\begin{pmatrix} X \\\\ Y \\\\ Z \\\\ 1 \\\\ \\end{pmatrix}\n",
    "=> \\begin{pmatrix} fX + ZP_x \\\\ fY + ZP_y \\\\ Z \\end{pmatrix}\n",
    "= \\begin{bmatrix} f & & p_x & 0 \\\\ & f & p_y & 0 \\\\ & & 1 & 0 \\end{bmatrix} \\begin{pmatrix} X \\\\ Y \\\\ Z \\\\ 1 \\end{pmatrix}\n",
    "$$\n",
    "\n",
    "$$\n",
    "K = \\begin{bmatrix} f & & p_x & 0 \\\\ & f & p_y & 0 \\\\ & & 1 & 0 \\end{bmatrix}\n",
    "$$\n",
    "에서, 행렬 K는 camera calibration matrix라고 부릅니다.\n",
    "\n",
    "**![fig_6_2](figures/ch6_1_figure/ch6_fig_6_2.jpg)**\n"
   ]
  },
  {
   "cell_type": "markdown",
   "metadata": {},
   "source": [
    "### Camera rotation and translation.\n",
    "$$\n",
    "X_cam = \n",
    "\\begin{bmatrix} R & -R\\tilde{C} \\\\ 0 & 1 \\end{bmatrix}\n",
    "\\begin{pmatrix} X \\\\ Y \\\\ Z \\\\ 1 \\end{pmatrix}\n",
    "= \\begin{bmatrix} R & -R\\tilde{C} \\\\ 0 & 1 \\end{bmatrix} X\n",
    "$$\n",
    "\n",
    "그림 6.3에서와 같이, 3D 공간 상의 점을 카메라 위치의 점으로 변환시키는 과정입니다.\n",
    "X는 world coordinate frame, K는 카메라 내부 파라미터 값,\n",
    "R과 $\\tilde{C}$는 회전(rotation)과 이동(translation) 변환값(카메라 외부 파라미터)입니다.\n",
    "\n",
    "**![fig_6_3](figures/ch6_1_figure/ch6_fig_6_3.jpg)**"
   ]
  }
 ],
 "metadata": {
  "language_info": {
   "name": "python"
  },
  "orig_nbformat": 4
 },
 "nbformat": 4,
 "nbformat_minor": 2
}

{
 "cells": [
  {
   "cell_type": "markdown",
   "metadata": {},
   "source": [
    "# 6.2 The projective camera"
   ]
  },
  {
   "cell_type": "markdown",
   "metadata": {},
   "source": [
    "## 6.2.1 Camera anatomy"
   ]
  },
  {
   "cell_type": "markdown",
   "metadata": {},
   "source": [
    "## 6.2.2 Action of a projective camera on points"
   ]
  },
  {
   "cell_type": "markdown",
   "metadata": {},
   "source": [
    "## 6.2.3 Depth of points"
   ]
  },
  {
   "cell_type": "markdown",
   "metadata": {},
   "source": [
    "## 6.2.4 Decomposition of the camera matrix"
   ]
  },
  {
   "cell_type": "markdown",
   "metadata": {},
   "source": [
    "일반사영 카메라 행렬 P를 분해(Decomposition)하여 카메라 중심, 카메라 방향, 그리고 카메라의 내부 매개변수를 찾으려고 합니다."
   ]
  },
  {
   "cell_type": "markdown",
   "metadata": {},
   "source": [
    "### 카메라 중심 찾기\n",
    "<br>\n",
    "카메라 중심 $\\mathbf{C}$는 P$\\mathbf{C} = 0$인 점입니다. 수치적으로 이러한 오른쪽 영벡터는 P의 SVD에서 구할 수 있습니다. 대수적으로 중심 $\\mathbf{C} = (X, Y, Z, T)^\\top$는 다음과 같이 구할 수 있습니다.\n",
    "\n",
    "<center style=\"font-size:120%\">\n",
    "$X = det([\\mathbf{p}_2, \\mathbf{p}_3, \\mathbf{p}_4])$ &nbsp;&nbsp;&nbsp; $Y = -det([\\mathbf{p}_1, \\mathbf{p}_3, \\mathbf{p}_4])$ <br>\n",
    "$Z = det([\\mathbf{p}_1, \\mathbf{p}_2, \\mathbf{p}_4])$ &nbsp;&nbsp;&nbsp; $T = -det([\\mathbf{p}_1, \\mathbf{p}_2, \\mathbf{p}_3])$ <br>\n",
    "</center>"
   ]
  },
  {
   "cell_type": "markdown",
   "metadata": {},
   "source": [
    "### 카메라 방향과 내부 매개변수 찾기\n",
    "유한 카메라 행렬 P = KR[$\\mathbf{I}$ | $-\\tilde{\\mathbf{C}}$]에서 다음을 얻을 수 있습니다.\n",
    "<br>\n",
    "<center style=\"font-size:120%\">\n",
    "P = [M | -M$\\tilde{\\mathbf{C}}$] = K[R | -R$\\tilde{\\mathbf{C}}$]\n",
    "</center>\n",
    "<br><br>\n",
    "위 식의 분해 과정은 RQ decomposition을 통해 보일 수 있으며, 행렬 R은 카메라의 방향을 나타내고 K는 보정 행렬입니다. 분해의 모호성은 K가 양의 대각 성분을 가진다는 조건을 추가하여 없앨 수 있습니다. 행렬 K의 형식은 다음과 같습니다.\n",
    "<br><br>\n",
    "<center style=\"font-size:120%\">\n",
    "$\\begin{bmatrix}\\alpha_x&s&x_0\\\\0&\\alpha_y&y_0\\\\ 0&0&1\\\\ \\end{bmatrix}$\n",
    "</center>"
   ]
  },
  {
   "cell_type": "markdown",
   "metadata": {},
   "source": [
    "- $\\alpha_x$ : x좌표 방향의 배율 계수\n",
    "- $\\alpha_y$ : y좌표 방향의 배율 계수\n",
    "- s : skew\n",
    "- ($x_0, y_0$) : 주점의 좌표\n",
    "- 종횡비(aspect ratio) : $\\alpha_x / \\alpha_y$"
   ]
  },
  {
   "cell_type": "markdown",
   "metadata": {},
   "source": [
    "### s $\\neq$ 0인 상황\n",
    "실제 CCD 카메라는 일반적으로 s = 0이므로 4개의 카메라 매개변수만을 가집니다. s $\\neq$ 0이면 CCD 배열에서 픽셀 요소들이 왜곡된 것으로 해석되고, x축과 y축이 수직이 아닙니다. 하지만 이러한 현상이 발생할 가능성은 매우 낮습니다. <br><br>\n",
    "\n",
    "실제 상황에서 왜곡이 발생하는 경우는 이미지를 다시 이미지하는 상황입니다. 예를 들면 사진을 다시 촬영하거나 네거티브 필름을 확대하는 경우입니다. 핀홀 카메라로 촬영한 이미지를 확대할 때, 확대 렌즈의 축이 필름 평면 또는 확대된 이미지 평면에 수직이 아닌 경우에도 발생합니다. <br><br>\n",
    "\n",
    "이러한 \"사진의 사진\" 상황에서 발생할 수 진의 사진\" 상황에서 발생할 수 있는 가장 심각한 왜곡은 단응사상(homography)입니다. 원래의 (유한) 카메라 행렬이 P라면, \"사진의 사진\" 상황을 나타내는 카메라 행렬은 HP로 나타낼 수 있으며 H는 단응사상 행렬입니다. <br><br>\n",
    "\n",
    "\"사진의 사진\" 카메라 행렬 HP의 왼쪽 3 x 3 부분 행렬 또한 정칙 행렬이어서 앞서 설명했던 것과 같이 KR의 곱으로 분해할 수 있는데, 이 때의 K와 R은 원래의 카메라 행렬 P의 보정 행렬과 카메라 방향을 더이상 나타내지 않기 때문에 주의가 필요합니다. <br><br>\n",
    "\n",
    "다른 한편으로, \"사진의 사진\"을 찍는 과정에서 겉보기 카메라 중심은 바뀌지 않습니다. H는 정칙 행렬이기 때문에 HP$\\mathbf{C}$ = 0과 P$\\mathbf{C}$ = 0은 동치입니다."
   ]
  },
  {
   "cell_type": "markdown",
   "metadata": {},
   "source": [
    "### 분해가 필요한 상황\n",
    "카메라 행렬 P가 P = KR[$\\mathbf{I}$ | $-\\tilde{\\mathbf{C}}$]와 같은 형태로 주어지면 매개변수가 알려져 있으며 분해가 불필요합니다. 분해된 형태가 주어지지 않은 카메라 행렬을 어디서 발견할 수 있을 지 궁금할 수도 있습니다. <br><br>\n",
    "하지만 카메라 행렬을 분해하는 방법은 실제로 자주 사용되는 도구입니다. 예를 들면 calibration을 통해 실 세계와 이미지의 대응 집합으로부터 카메라 행렬을 직접적으로 계산할 수 있습니다. 그리고 간접적으로 다중 시점 관계를 계산하고, 그 후에 사영 행렬을 구할 수 있습니다."
   ]
  },
  {
   "cell_type": "markdown",
   "metadata": {},
   "source": [
    "### 좌표 방향에 대한 참고 사항\n",
    "본 문서에서 카메라 모델과 매개변수 행렬을 유도할 때, 이미지와 3차원 세계의 좌표계는 오른손 좌표계(right handed system)을 가정하였습니다. 하지만 이미지 좌표를 측정하는 일반적인 관행은 y좌표가 아래쪽으로 증가하는 왼손 좌표계를 사용합니다. <br> <br>\n",
    "\n",
    "이러한 경우에 권장되는 방법은 좌표계가 다시 오른손 좌표계가 되도록 이미지 점의 y좌표에 음수를 곱하는 것이며, 이미지 좌표계를 왼손 좌표계로 사용하여도 그 결과는 심각하지 않습니다. 실세계 좌표와 이미지 좌표 사이의 관계는 여전히 3 x 4 카메라 행렬로 표현됩니다. <br><br>\n",
    "\n",
    "지금까지 사용해왔던 것과 같이, 아래 수식과 같은 형태의 K를 사용해 $\\alpha_x$와 $\\beta_y$가 여전히 양수인 형태로 동일하게 카메라 행렬 분해가 가능합니다. 차이점은 R이 음의 Z축에 대해 카메라 방향을 나타낸다는 것입니다. 그리고 점의 깊이는 카메라 앞의 점에 대해 양수 대신 음수가 됩니다.<br><br>\n",
    "\n",
    "<center style=\"font-size:120%\">\n",
    "$\\begin{bmatrix}\\alpha_x&s&x_0\\\\0&\\alpha_y&y_0\\\\ 0&0&1\\\\ \\end{bmatrix}$\n",
    "</center>"
   ]
  },
  {
   "cell_type": "markdown",
   "metadata": {},
   "source": [
    "## 6.2.5 Euclidean vs projective spaces"
   ]
  },
  {
   "cell_type": "code",
   "execution_count": null,
   "metadata": {},
   "outputs": [],
   "source": []
  }
 ],
 "metadata": {
  "kernelspec": {
   "display_name": "Python 3",
   "language": "python",
   "name": "python3"
  },
  "language_info": {
   "codemirror_mode": {
    "name": "ipython",
    "version": 3
   },
   "file_extension": ".py",
   "mimetype": "text/x-python",
   "name": "python",
   "nbconvert_exporter": "python",
   "pygments_lexer": "ipython3",
   "version": "3.6.9"
  }
 },
 "nbformat": 4,
 "nbformat_minor": 2
}
